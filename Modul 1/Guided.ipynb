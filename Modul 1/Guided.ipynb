{
 "cells": [
  {
   "cell_type": "markdown",
   "id": "b13ae85d",
   "metadata": {},
   "source": [
    "Buat program yang menampilkan nama dan umur"
   ]
  },
  {
   "cell_type": "code",
   "execution_count": 3,
   "id": "d04e59af",
   "metadata": {},
   "outputs": [
    {
     "name": "stdout",
     "output_type": "stream",
     "text": [
      "Nama : Fito \n",
      "Umur : 38\n"
     ]
    }
   ],
   "source": [
    "nama = \"Fito\"\n",
    "umur = 38\n",
    "print(f\"Nama : {nama} \\nUmur : {umur}\")"
   ]
  },
  {
   "cell_type": "markdown",
   "id": "90da6669",
   "metadata": {},
   "source": [
    "Buat variabel untuk menyimpan nilai luas dan keliling lingkaran, hitung hasilnya."
   ]
  },
  {
   "cell_type": "code",
   "execution_count": 2,
   "id": "c0333b33",
   "metadata": {},
   "outputs": [
    {
     "name": "stdout",
     "output_type": "stream",
     "text": [
      "Luas Lingkaran : 201.06192982974676 \n",
      "Keliling Lingkaran : 50.26548245743669\n"
     ]
    }
   ],
   "source": [
    "from math import pi\n",
    "\n",
    "jari = 8\n",
    "luas = pi *jari**2\n",
    "keliling = 2*pi*jari\n",
    "print(f\"Luas Lingkaran : {luas} \\nKeliling Lingkaran : {keliling}\")"
   ]
  },
  {
   "cell_type": "markdown",
   "id": "515a3a27",
   "metadata": {},
   "source": [
    "Tampilkan tipe data dari variabel yang menyimpan angka dan teks."
   ]
  },
  {
   "cell_type": "code",
   "execution_count": 4,
   "id": "563e2b99",
   "metadata": {},
   "outputs": [
    {
     "name": "stdout",
     "output_type": "stream",
     "text": [
      "Tipe Data Angka : <class 'int'> \n",
      "Tipe Data Teks : <class 'str'>\n"
     ]
    }
   ],
   "source": [
    "angka = 129\n",
    "teks = 'ini angka'\n",
    "print(f\"Tipe Data Angka : {type(angka)} \\nTipe Data Teks : {type(teks)}\")"
   ]
  },
  {
   "cell_type": "markdown",
   "id": "fe1216d2",
   "metadata": {},
   "source": [
    "Buat program yang mengubah nilai dari tipe integer menjadi float."
   ]
  },
  {
   "cell_type": "code",
   "execution_count": 5,
   "id": "f7a8a30e",
   "metadata": {},
   "outputs": [
    {
     "name": "stdout",
     "output_type": "stream",
     "text": [
      "nilai kamu adalah 100 dan tipe datanya adalah <class 'int'>\n",
      "nilai kamu adalah 100.0 dan tipe datanya adalah <class 'float'>\n"
     ]
    }
   ],
   "source": [
    "nilai = 100\n",
    "print(f'nilai kamu adalah {nilai} dan tipe datanya adalah {type(nilai)}')\n",
    "nilai = float(nilai)\n",
    "print(f'nilai kamu adalah {nilai} dan tipe datanya adalah {type(nilai)}')"
   ]
  },
  {
   "cell_type": "markdown",
   "id": "a589f50d",
   "metadata": {},
   "source": [
    "Buat program yang mengubah string menjadi integer dan sebaliknya."
   ]
  },
  {
   "cell_type": "code",
   "execution_count": 6,
   "id": "477f9e85",
   "metadata": {},
   "outputs": [
    {
     "name": "stdout",
     "output_type": "stream",
     "text": [
      "Tipe Data a : <class 'str'>\n",
      "Tipe Data a : <class 'int'>\n"
     ]
    }
   ],
   "source": [
    "a = \"123\"\n",
    "print(f\"Tipe Data a : {type(a)}\")\n",
    "a = int(a)\n",
    "print(f\"Tipe Data a : {type(a)}\")"
   ]
  },
  {
   "cell_type": "markdown",
   "id": "18a174b7",
   "metadata": {},
   "source": [
    "Buat program yang mengalikan string dengan angka"
   ]
  },
  {
   "cell_type": "code",
   "execution_count": 7,
   "id": "c9787495",
   "metadata": {},
   "outputs": [
    {
     "name": "stdout",
     "output_type": "stream",
     "text": [
      "ulang ulang ulang \n"
     ]
    }
   ],
   "source": [
    "text = \"ulang \"\n",
    "multiplied_text = text * 3\n",
    "print(multiplied_text)"
   ]
  },
  {
   "cell_type": "markdown",
   "id": "308ecec8",
   "metadata": {},
   "source": [
    "Buat program yang memeriksa apakah angka adalah bilangan genap atau ganjil"
   ]
  },
  {
   "cell_type": "code",
   "execution_count": 8,
   "id": "a17b18d5",
   "metadata": {},
   "outputs": [
    {
     "name": "stdout",
     "output_type": "stream",
     "text": [
      "Ganjil\n"
     ]
    }
   ],
   "source": [
    "number = 7\n",
    "if number % 2 == 0:\n",
    "  print(\"Genap\")\n",
    "else:\n",
    "  print(\"Ganjil\")"
   ]
  },
  {
   "cell_type": "markdown",
   "id": "5cc01d9e",
   "metadata": {},
   "source": [
    "Buat program yang memeriksa apakah sebuah nilai lebih besar dari 100"
   ]
  },
  {
   "cell_type": "code",
   "execution_count": 9,
   "id": "a2e23905",
   "metadata": {},
   "outputs": [
    {
     "name": "stdout",
     "output_type": "stream",
     "text": [
      "lebih dari 100\n"
     ]
    }
   ],
   "source": [
    "value = 150\n",
    "if value > 100:\n",
    "    print(\"lebih dari 100\")\n",
    "else:\n",
    "    print(\"100 atau kurang dari\")"
   ]
  },
  {
   "cell_type": "markdown",
   "id": "a9d8e60b",
   "metadata": {},
   "source": [
    "Buat program yang menerima input umur dan menampilkan kategori umur (anak-anak, remaja, dewasa)"
   ]
  },
  {
   "cell_type": "code",
   "execution_count": 10,
   "id": "0e7f080b",
   "metadata": {},
   "outputs": [
    {
     "name": "stdout",
     "output_type": "stream",
     "text": [
      "Remaja\n"
     ]
    }
   ],
   "source": [
    "age = 16\n",
    "if age <= 12:\n",
    "    print(\"Anak-anak\")\n",
    "elif 13 <= age <= 17:\n",
    "    print(\"Remaja\")\n",
    "else:\n",
    "    print(\"Dewasa\")"
   ]
  },
  {
   "cell_type": "markdown",
   "id": "d2c2299e",
   "metadata": {},
   "source": [
    "Buat program yang meminta input nama pengguna, jika nama benar tampilkan \"Selamat datang\""
   ]
  },
  {
   "cell_type": "code",
   "execution_count": 12,
   "id": "110908a4",
   "metadata": {},
   "outputs": [
    {
     "name": "stdout",
     "output_type": "stream",
     "text": [
      "Enter username: Jono\n",
      "Selamat datang Jono\n"
     ]
    }
   ],
   "source": [
    "username = input(\"Enter username: \")\n",
    "if username == \"Jono\":\n",
    "    print(f\"Selamat datang {username}\")\n",
    "elif username == \"Slamet\":\n",
    "    print(f\"Selamat datang {username}\")\n",
    "else:\n",
    "    print(\"Nama tidak dikenali\")"
   ]
  },
  {
   "cell_type": "markdown",
   "id": "e7d03da6",
   "metadata": {},
   "source": [
    "Buat program yang menampilkan apakah suatu tahun adalah tahun kabisat"
   ]
  },
  {
   "cell_type": "code",
   "execution_count": 13,
   "id": "8651ca19",
   "metadata": {},
   "outputs": [
    {
     "name": "stdout",
     "output_type": "stream",
     "text": [
      "Tahun Kabisat\n"
     ]
    }
   ],
   "source": [
    "year = 2024\n",
    "if (year % 4 == 0 and year % 100 != 0) or (year % 400 == 0):\n",
    "    print(\"Tahun Kabisat\")\n",
    "else:\n",
    "    print(\"Bukan Tahun Kabisat\")\n"
   ]
  },
  {
   "cell_type": "markdown",
   "id": "3223258f",
   "metadata": {},
   "source": [
    "Buat program untuk menentukan apakah seseorang boleh memberikan suara berdasarkan umurnya"
   ]
  },
  {
   "cell_type": "code",
   "execution_count": 14,
   "id": "90620914",
   "metadata": {},
   "outputs": [
    {
     "name": "stdout",
     "output_type": "stream",
     "text": [
      "Boleh memberikan suara\n"
     ]
    }
   ],
   "source": [
    "age = 18\n",
    "if age >= 18:\n",
    "    print(\"Boleh memberikan suara\")\n",
    "else:\n",
    "    print(\"Tidak boleh memberikan suara\")"
   ]
  },
  {
   "cell_type": "markdown",
   "id": "25988c25",
   "metadata": {},
   "source": [
    "Buat program yang meminta input tiga angka dan menampilkan angka terbesar."
   ]
  },
  {
   "cell_type": "code",
   "execution_count": 15,
   "id": "9b5346ce",
   "metadata": {},
   "outputs": [
    {
     "name": "stdout",
     "output_type": "stream",
     "text": [
      "Nilai terbesar 7\n"
     ]
    }
   ],
   "source": [
    "a, b, c = 3, 7, 5\n",
    "largest = max(a, b, c)\n",
    "print(f\"Nilai terbesar {largest}\")\n"
   ]
  },
  {
   "cell_type": "markdown",
   "id": "3de25c67",
   "metadata": {},
   "source": [
    "\n",
    "Buat program yang mengecek apakah dua string memiliki panjang yang sama"
   ]
  },
  {
   "cell_type": "code",
   "execution_count": 16,
   "id": "8574af83",
   "metadata": {},
   "outputs": [
    {
     "name": "stdout",
     "output_type": "stream",
     "text": [
      "Memiliki Panjang yg sama\n"
     ]
    }
   ],
   "source": [
    "str1 = \"hello\"\n",
    "str2 = \"world\"\n",
    "if len(str1) == len(str2):\n",
    "    print(\"Memiliki Panjang yg sama\")\n",
    "else:\n",
    "    print(\"Memiliki panjang yg berbeda\")\n"
   ]
  },
  {
   "cell_type": "markdown",
   "id": "8138e4fd",
   "metadata": {},
   "source": [
    "Buat program yang menampilkan angka 1 sampai 10 menggunakan for loop"
   ]
  },
  {
   "cell_type": "code",
   "execution_count": 17,
   "id": "cc8c463e",
   "metadata": {},
   "outputs": [
    {
     "name": "stdout",
     "output_type": "stream",
     "text": [
      "1\n",
      "2\n",
      "3\n",
      "4\n",
      "5\n",
      "6\n",
      "7\n",
      "8\n",
      "9\n",
      "10\n"
     ]
    }
   ],
   "source": [
    "for i in range(1, 11):\n",
    "    print(i)"
   ]
  },
  {
   "cell_type": "markdown",
   "id": "66e310ef",
   "metadata": {},
   "source": [
    "Buat program yang menampilkan bilangan genap dari 2 sampai 20 menggunakan while loop"
   ]
  },
  {
   "cell_type": "code",
   "execution_count": 18,
   "id": "68891ddd",
   "metadata": {},
   "outputs": [
    {
     "name": "stdout",
     "output_type": "stream",
     "text": [
      "2\n",
      "4\n",
      "6\n",
      "8\n",
      "10\n",
      "12\n",
      "14\n",
      "16\n",
      "18\n",
      "20\n"
     ]
    }
   ],
   "source": [
    "i = 2\n",
    "while i <= 20:\n",
    "    print(i)\n",
    "    i += 2"
   ]
  },
  {
   "cell_type": "markdown",
   "id": "111acc39",
   "metadata": {},
   "source": [
    "Buat program yang menerima input dan menampilkan kalimat tersebut sebanyak 5 kali"
   ]
  },
  {
   "cell_type": "code",
   "execution_count": 19,
   "id": "b03ac48a",
   "metadata": {},
   "outputs": [
    {
     "name": "stdout",
     "output_type": "stream",
     "text": [
      "Masukkan Kalimat: aku jelek\n",
      "aku jelek\n",
      "aku jelek\n",
      "aku jelek\n",
      "aku jelek\n",
      "aku jelek\n"
     ]
    }
   ],
   "source": [
    "sentence = input(\"Masukkan Kalimat: \")\n",
    "for _ in range(5):\n",
    "    print(sentence)\n"
   ]
  },
  {
   "cell_type": "markdown",
   "id": "e00cd75d",
   "metadata": {},
   "source": [
    "Buat program untuk menghitung jumlah angka dari 1 sampai N"
   ]
  },
  {
   "cell_type": "code",
   "execution_count": 20,
   "id": "eb074f18",
   "metadata": {},
   "outputs": [
    {
     "name": "stdout",
     "output_type": "stream",
     "text": [
      "Sum dari 1 to 10 adalah 55\n"
     ]
    }
   ],
   "source": [
    "N = 10\n",
    "total_sum = sum(range(1, N + 1))\n",
    "print(f\"Sum dari 1 to {N} adalah {total_sum}\")"
   ]
  },
  {
   "cell_type": "markdown",
   "id": "58e06ffe",
   "metadata": {},
   "source": [
    "Buat program yang menggunakan break untuk keluar dari loop jika kondisi tertentu terpenuhi"
   ]
  },
  {
   "cell_type": "code",
   "execution_count": 21,
   "id": "2e7610ae",
   "metadata": {},
   "outputs": [
    {
     "name": "stdout",
     "output_type": "stream",
     "text": [
      "1\n",
      "2\n",
      "3\n",
      "4\n"
     ]
    }
   ],
   "source": [
    "for i in range(1, 11):\n",
    "    if i == 5:\n",
    "        break\n",
    "    print(i)"
   ]
  },
  {
   "cell_type": "markdown",
   "id": "9788a177",
   "metadata": {},
   "source": [
    "Buat program yang menggunakan continue untuk melewati iterasi tertentu dalam loop"
   ]
  },
  {
   "cell_type": "code",
   "execution_count": 22,
   "id": "ba335373",
   "metadata": {},
   "outputs": [
    {
     "name": "stdout",
     "output_type": "stream",
     "text": [
      "1\n",
      "2\n",
      "3\n",
      "4\n",
      "6\n",
      "7\n",
      "8\n",
      "9\n",
      "10\n"
     ]
    }
   ],
   "source": [
    "for i in range(1, 11):\n",
    "    if i == 5:\n",
    "        continue\n",
    "    print(i)"
   ]
  },
  {
   "cell_type": "markdown",
   "id": "b5ca43e5",
   "metadata": {},
   "source": [
    "Buat program yang menampilkan tabel perkalian 1 sampai 10"
   ]
  },
  {
   "cell_type": "code",
   "execution_count": 23,
   "id": "264a1692",
   "metadata": {},
   "outputs": [
    {
     "name": "stdout",
     "output_type": "stream",
     "text": [
      "1 x 1 = 1\n",
      "1 x 2 = 2\n",
      "1 x 3 = 3\n",
      "1 x 4 = 4\n",
      "1 x 5 = 5\n",
      "1 x 6 = 6\n",
      "1 x 7 = 7\n",
      "1 x 8 = 8\n",
      "1 x 9 = 9\n",
      "1 x 10 = 10\n",
      "\n",
      "2 x 1 = 2\n",
      "2 x 2 = 4\n",
      "2 x 3 = 6\n",
      "2 x 4 = 8\n",
      "2 x 5 = 10\n",
      "2 x 6 = 12\n",
      "2 x 7 = 14\n",
      "2 x 8 = 16\n",
      "2 x 9 = 18\n",
      "2 x 10 = 20\n",
      "\n",
      "3 x 1 = 3\n",
      "3 x 2 = 6\n",
      "3 x 3 = 9\n",
      "3 x 4 = 12\n",
      "3 x 5 = 15\n",
      "3 x 6 = 18\n",
      "3 x 7 = 21\n",
      "3 x 8 = 24\n",
      "3 x 9 = 27\n",
      "3 x 10 = 30\n",
      "\n",
      "4 x 1 = 4\n",
      "4 x 2 = 8\n",
      "4 x 3 = 12\n",
      "4 x 4 = 16\n",
      "4 x 5 = 20\n",
      "4 x 6 = 24\n",
      "4 x 7 = 28\n",
      "4 x 8 = 32\n",
      "4 x 9 = 36\n",
      "4 x 10 = 40\n",
      "\n",
      "5 x 1 = 5\n",
      "5 x 2 = 10\n",
      "5 x 3 = 15\n",
      "5 x 4 = 20\n",
      "5 x 5 = 25\n",
      "5 x 6 = 30\n",
      "5 x 7 = 35\n",
      "5 x 8 = 40\n",
      "5 x 9 = 45\n",
      "5 x 10 = 50\n",
      "\n",
      "6 x 1 = 6\n",
      "6 x 2 = 12\n",
      "6 x 3 = 18\n",
      "6 x 4 = 24\n",
      "6 x 5 = 30\n",
      "6 x 6 = 36\n",
      "6 x 7 = 42\n",
      "6 x 8 = 48\n",
      "6 x 9 = 54\n",
      "6 x 10 = 60\n",
      "\n",
      "7 x 1 = 7\n",
      "7 x 2 = 14\n",
      "7 x 3 = 21\n",
      "7 x 4 = 28\n",
      "7 x 5 = 35\n",
      "7 x 6 = 42\n",
      "7 x 7 = 49\n",
      "7 x 8 = 56\n",
      "7 x 9 = 63\n",
      "7 x 10 = 70\n",
      "\n",
      "8 x 1 = 8\n",
      "8 x 2 = 16\n",
      "8 x 3 = 24\n",
      "8 x 4 = 32\n",
      "8 x 5 = 40\n",
      "8 x 6 = 48\n",
      "8 x 7 = 56\n",
      "8 x 8 = 64\n",
      "8 x 9 = 72\n",
      "8 x 10 = 80\n",
      "\n",
      "9 x 1 = 9\n",
      "9 x 2 = 18\n",
      "9 x 3 = 27\n",
      "9 x 4 = 36\n",
      "9 x 5 = 45\n",
      "9 x 6 = 54\n",
      "9 x 7 = 63\n",
      "9 x 8 = 72\n",
      "9 x 9 = 81\n",
      "9 x 10 = 90\n",
      "\n",
      "10 x 1 = 10\n",
      "10 x 2 = 20\n",
      "10 x 3 = 30\n",
      "10 x 4 = 40\n",
      "10 x 5 = 50\n",
      "10 x 6 = 60\n",
      "10 x 7 = 70\n",
      "10 x 8 = 80\n",
      "10 x 9 = 90\n",
      "10 x 10 = 100\n",
      "\n"
     ]
    }
   ],
   "source": [
    "for i in range(1, 11):\n",
    "    for j in range(1, 11):\n",
    "        print(f\"{i} x {j} = {i * j}\")\n",
    "    print()"
   ]
  },
  {
   "cell_type": "markdown",
   "id": "566cbe75",
   "metadata": {},
   "source": [
    "Buat program untuk menghitung jumlah bilangan ganjil antara dua bilangan yang diberikan"
   ]
  },
  {
   "cell_type": "code",
   "execution_count": 24,
   "id": "1aa00318",
   "metadata": {},
   "outputs": [
    {
     "name": "stdout",
     "output_type": "stream",
     "text": [
      "Sum of odd numbers between 1 and 10 is 25\n"
     ]
    }
   ],
   "source": [
    "start = 1\n",
    "end = 10\n",
    "sum_odds = sum(i for i in range(start, end + 1) if i % 2 != 0)\n",
    "print(f\"Sum of odd numbers between {start} and {end} is {sum_odds}\")"
   ]
  },
  {
   "cell_type": "markdown",
   "id": "03313928",
   "metadata": {},
   "source": [
    "Buat fungsi untuk menghitung luas segitiga"
   ]
  },
  {
   "cell_type": "code",
   "execution_count": 25,
   "id": "7b7bb4d6",
   "metadata": {},
   "outputs": [
    {
     "name": "stdout",
     "output_type": "stream",
     "text": [
      "25.0\n"
     ]
    }
   ],
   "source": [
    "def triangle_area(base, height):\n",
    "    return 0.5 * base * height\n",
    "\n",
    "print(triangle_area(10, 5))"
   ]
  },
  {
   "cell_type": "markdown",
   "id": "f35a8043",
   "metadata": {},
   "source": [
    "Buat fungsi yang menerima nama dan menampilkan \"Halo, [nama]\""
   ]
  },
  {
   "cell_type": "code",
   "execution_count": 26,
   "id": "5edde2c8",
   "metadata": {},
   "outputs": [
    {
     "name": "stdout",
     "output_type": "stream",
     "text": [
      "Halo, Alice\n"
     ]
    }
   ],
   "source": [
    "def greet(name):\n",
    "    print(f\"Halo, {name}\")\n",
    "\n",
    "greet(\"Alice\")"
   ]
  },
  {
   "cell_type": "markdown",
   "id": "66356bde",
   "metadata": {},
   "source": [
    "Buat fungsi untuk memeriksa apakah suatu angka adalah bilangan prima"
   ]
  },
  {
   "cell_type": "code",
   "execution_count": 27,
   "id": "f97ddbc0",
   "metadata": {},
   "outputs": [
    {
     "name": "stdout",
     "output_type": "stream",
     "text": [
      "True\n"
     ]
    }
   ],
   "source": [
    "def is_prime(n):\n",
    "    if n <= 1:\n",
    "        return False\n",
    "    for i in range(2, int(n**0.5) + 1):\n",
    "        if n % i == 0:\n",
    "            return False\n",
    "    return True\n",
    "\n",
    "print(is_prime(7))"
   ]
  },
  {
   "cell_type": "markdown",
   "id": "62a28914",
   "metadata": {},
   "source": [
    "Buat fungsi yang mengembalikan nilai maksimum dari tiga angka"
   ]
  },
  {
   "cell_type": "code",
   "execution_count": 28,
   "id": "4873e348",
   "metadata": {},
   "outputs": [
    {
     "name": "stdout",
     "output_type": "stream",
     "text": [
      "7\n"
     ]
    }
   ],
   "source": [
    "def max_of_three(a, b, c):\n",
    "    return max(a, b, c)\n",
    "\n",
    "print(max_of_three(3, 7, 5))"
   ]
  },
  {
   "cell_type": "markdown",
   "id": "62c1572f",
   "metadata": {},
   "source": [
    "Buat fungsi yang mengkonversi suhu dari Celcius ke Fahrenheit"
   ]
  },
  {
   "cell_type": "code",
   "execution_count": 29,
   "id": "598d42c3",
   "metadata": {},
   "outputs": [
    {
     "name": "stdout",
     "output_type": "stream",
     "text": [
      "86.0\n"
     ]
    }
   ],
   "source": [
    "def celsius_ke_fahrenheit(celsius):\n",
    "    return (celsius * 9/5) + 32\n",
    "\n",
    "print(celsius_ke_fahrenheit(30))"
   ]
  },
  {
   "cell_type": "markdown",
   "id": "69a17f8d",
   "metadata": {},
   "source": [
    "Buat fungsi yang menerima dua string dan menggabungkannya."
   ]
  },
  {
   "cell_type": "code",
   "execution_count": 30,
   "id": "64eadd5a",
   "metadata": {},
   "outputs": [
    {
     "name": "stdout",
     "output_type": "stream",
     "text": [
      "Hello, World!\n"
     ]
    }
   ],
   "source": [
    "def gabung(str1, str2):\n",
    "    return str1 + str2\n",
    "\n",
    "print(gabung(\"Hello, \", \"World!\"))"
   ]
  },
  {
   "cell_type": "markdown",
   "id": "698434ba",
   "metadata": {},
   "source": [
    "Buat fungsi rekursif untuk menghitung faktorial dari suatu angka."
   ]
  },
  {
   "cell_type": "code",
   "execution_count": 31,
   "id": "5c758b9b",
   "metadata": {},
   "outputs": [
    {
     "name": "stdout",
     "output_type": "stream",
     "text": [
      "120\n"
     ]
    }
   ],
   "source": [
    "def factorial(n):\n",
    "    if n == 0:\n",
    "        return 1\n",
    "    else:\n",
    "        return n * factorial(n-1)\n",
    "\n",
    "print(factorial(5))"
   ]
  },
  {
   "cell_type": "markdown",
   "id": "61a62936",
   "metadata": {},
   "source": [
    "Buat fungsi untuk menghitung total bilangan dalam sebuah list.\n",
    "\n",
    "\n"
   ]
  },
  {
   "cell_type": "code",
   "execution_count": 32,
   "id": "2acaf2c7",
   "metadata": {},
   "outputs": [
    {
     "name": "stdout",
     "output_type": "stream",
     "text": [
      "15\n"
     ]
    }
   ],
   "source": [
    "def sum_list(numbers):\n",
    "    return sum(numbers)\n",
    "\n",
    "print(sum_list([1, 2, 3, 4, 5]))"
   ]
  },
  {
   "cell_type": "markdown",
   "id": "17677f53",
   "metadata": {},
   "source": [
    "Buat program yang membuat list dari 5 nama."
   ]
  },
  {
   "cell_type": "code",
   "execution_count": 33,
   "id": "2460f5e9",
   "metadata": {},
   "outputs": [],
   "source": [
    "names = [\"Alice\", \"Bob\", \"Charlie\", \"David\", \"Eve\"]"
   ]
  },
  {
   "cell_type": "markdown",
   "id": "f171d065",
   "metadata": {},
   "source": [
    "Buat program untuk mengakses elemen pertama dan terakhir dari sebuah list."
   ]
  },
  {
   "cell_type": "code",
   "execution_count": 34,
   "id": "75319dd8",
   "metadata": {},
   "outputs": [
    {
     "name": "stdout",
     "output_type": "stream",
     "text": [
      "Alice\n",
      "Eve\n"
     ]
    }
   ],
   "source": [
    "print(names[0])\n",
    "print(names[-1])"
   ]
  },
  {
   "cell_type": "markdown",
   "id": "c26131b6",
   "metadata": {},
   "source": [
    "Buat program untuk menambahkan elemen baru ke list."
   ]
  },
  {
   "cell_type": "code",
   "execution_count": 35,
   "id": "b641f50c",
   "metadata": {},
   "outputs": [
    {
     "name": "stdout",
     "output_type": "stream",
     "text": [
      "['Alice', 'Bob', 'Charlie', 'David', 'Eve', 'Frank']\n"
     ]
    }
   ],
   "source": [
    "names.append(\"Frank\")\n",
    "print(names)"
   ]
  },
  {
   "cell_type": "markdown",
   "id": "b1bb335a",
   "metadata": {},
   "source": [
    "Buat program untuk menghapus elemen tertentu dari list.\n"
   ]
  },
  {
   "cell_type": "code",
   "execution_count": 36,
   "id": "61a900bd",
   "metadata": {},
   "outputs": [
    {
     "name": "stdout",
     "output_type": "stream",
     "text": [
      "['Alice', 'Bob', 'David', 'Eve', 'Frank']\n"
     ]
    }
   ],
   "source": [
    "names.remove(\"Charlie\")\n",
    "print(names)"
   ]
  },
  {
   "cell_type": "markdown",
   "id": "a36fb4d1",
   "metadata": {},
   "source": [
    "Buat program yang menghitung jumlah elemen dalam list."
   ]
  },
  {
   "cell_type": "code",
   "execution_count": 37,
   "id": "1d53e4cd",
   "metadata": {},
   "outputs": [
    {
     "name": "stdout",
     "output_type": "stream",
     "text": [
      "5\n"
     ]
    }
   ],
   "source": [
    "print(len(names))"
   ]
  },
  {
   "cell_type": "markdown",
   "id": "2b9ead9b",
   "metadata": {},
   "source": [
    "Buat program yang mengurutkan list angka secara ascending."
   ]
  },
  {
   "cell_type": "code",
   "execution_count": 38,
   "id": "ffd4866c",
   "metadata": {},
   "outputs": [
    {
     "name": "stdout",
     "output_type": "stream",
     "text": [
      "[1, 1, 3, 4, 5]\n"
     ]
    }
   ],
   "source": [
    "numbers = [3, 1, 4, 1, 5]\n",
    "numbers.sort()\n",
    "print(numbers)"
   ]
  },
  {
   "cell_type": "markdown",
   "id": "928952ba",
   "metadata": {},
   "source": [
    "Buat program untuk membuat tuple yang berisi 5 bilangan."
   ]
  },
  {
   "cell_type": "code",
   "execution_count": 39,
   "id": "3c59b884",
   "metadata": {},
   "outputs": [],
   "source": [
    "numbers_tuple = (1, 2, 3, 4, 5)"
   ]
  },
  {
   "cell_type": "markdown",
   "id": "d54ce7ec",
   "metadata": {},
   "source": [
    "Buat program untuk memeriksa apakah elemen ada dalam tuple."
   ]
  },
  {
   "cell_type": "code",
   "execution_count": 40,
   "id": "56f75467",
   "metadata": {},
   "outputs": [
    {
     "name": "stdout",
     "output_type": "stream",
     "text": [
      "True\n"
     ]
    }
   ],
   "source": [
    "print(3 in numbers_tuple)  # Output: True"
   ]
  },
  {
   "cell_type": "markdown",
   "id": "aab1ce72",
   "metadata": {},
   "source": [
    "Buat dictionary untuk menyimpan nama dan nilai siswa."
   ]
  },
  {
   "cell_type": "code",
   "execution_count": 41,
   "id": "7ad5a5d3",
   "metadata": {},
   "outputs": [],
   "source": [
    "students = {\"Alice\": 85, \"Bob\": 90, \"Charlie\": 78}"
   ]
  },
  {
   "cell_type": "markdown",
   "id": "55dddad7",
   "metadata": {},
   "source": [
    "Buat program untuk menampilkan nilai seorang siswa dari dictionary."
   ]
  },
  {
   "cell_type": "code",
   "execution_count": 42,
   "id": "ba549351",
   "metadata": {},
   "outputs": [
    {
     "name": "stdout",
     "output_type": "stream",
     "text": [
      "85\n"
     ]
    }
   ],
   "source": [
    "print(students[\"Alice\"])"
   ]
  },
  {
   "cell_type": "markdown",
   "id": "e3bd9116",
   "metadata": {},
   "source": [
    "Buat program untuk menambahkan siswa baru ke dictionary."
   ]
  },
  {
   "cell_type": "code",
   "execution_count": 43,
   "id": "2257ff7b",
   "metadata": {},
   "outputs": [
    {
     "name": "stdout",
     "output_type": "stream",
     "text": [
      "{'Alice': 85, 'Bob': 90, 'Charlie': 78, 'David': 88}\n"
     ]
    }
   ],
   "source": [
    "students[\"David\"] = 88\n",
    "print(students)"
   ]
  },
  {
   "cell_type": "markdown",
   "id": "0bdd939d",
   "metadata": {},
   "source": [
    "Buat program yang menghapus entri dari dictionary berdasarkan nama siswa."
   ]
  },
  {
   "cell_type": "code",
   "execution_count": 44,
   "id": "9718fe56",
   "metadata": {},
   "outputs": [
    {
     "name": "stdout",
     "output_type": "stream",
     "text": [
      "{'Alice': 85, 'Charlie': 78, 'David': 88}\n"
     ]
    }
   ],
   "source": [
    "del students[\"Bob\"]\n",
    "print(students)"
   ]
  },
  {
   "cell_type": "markdown",
   "id": "2395e887",
   "metadata": {},
   "source": [
    "Buat program untuk mengupdate nilai siswa dalam dictionary."
   ]
  },
  {
   "cell_type": "code",
   "execution_count": 45,
   "id": "682311a7",
   "metadata": {},
   "outputs": [
    {
     "name": "stdout",
     "output_type": "stream",
     "text": [
      "{'Alice': 95, 'Charlie': 78, 'David': 88}\n"
     ]
    }
   ],
   "source": [
    "students[\"Alice\"] = 95\n",
    "print(students)"
   ]
  },
  {
   "cell_type": "markdown",
   "id": "2e92a602",
   "metadata": {},
   "source": [
    "Buat program yang menampilkan semua nama siswa dari dictionary."
   ]
  },
  {
   "cell_type": "code",
   "execution_count": 46,
   "id": "64f78898",
   "metadata": {},
   "outputs": [
    {
     "name": "stdout",
     "output_type": "stream",
     "text": [
      "dict_keys(['Alice', 'Charlie', 'David'])\n"
     ]
    }
   ],
   "source": [
    "print(students.keys())"
   ]
  },
  {
   "cell_type": "markdown",
   "id": "b8ad43ea",
   "metadata": {},
   "source": [
    "Buat program yang menampilkan semua nilai siswa dari dictionary."
   ]
  },
  {
   "cell_type": "code",
   "execution_count": 47,
   "id": "e9e6fd16",
   "metadata": {},
   "outputs": [
    {
     "name": "stdout",
     "output_type": "stream",
     "text": [
      "dict_values([95, 78, 88])\n"
     ]
    }
   ],
   "source": [
    "print(students.values())"
   ]
  },
  {
   "cell_type": "markdown",
   "id": "53be5074",
   "metadata": {},
   "source": [
    "Buat program untuk mengubah nilai menjadi list dari sebuah dictionary."
   ]
  },
  {
   "cell_type": "code",
   "execution_count": 48,
   "id": "273807c0",
   "metadata": {},
   "outputs": [
    {
     "name": "stdout",
     "output_type": "stream",
     "text": [
      "[95, 78, 88]\n"
     ]
    }
   ],
   "source": [
    "scores_list = list(students.values())\n",
    "print(scores_list)"
   ]
  },
  {
   "cell_type": "markdown",
   "id": "472e24db",
   "metadata": {},
   "source": [
    "Buat program untuk membuat set yang berisi angka-angka unik."
   ]
  },
  {
   "cell_type": "code",
   "execution_count": 49,
   "id": "bef1f3e5",
   "metadata": {},
   "outputs": [],
   "source": [
    "unique_numbers = {1, 2, 3, 4, 5}"
   ]
  },
  {
   "cell_type": "markdown",
   "id": "fdae0433",
   "metadata": {},
   "source": [
    "Buat program yang menambahkan elemen baru ke dalam set."
   ]
  },
  {
   "cell_type": "code",
   "execution_count": 50,
   "id": "5492b022",
   "metadata": {},
   "outputs": [
    {
     "name": "stdout",
     "output_type": "stream",
     "text": [
      "{1, 2, 3, 4, 5, 6}\n"
     ]
    }
   ],
   "source": [
    "unique_numbers.add(6)\n",
    "print(unique_numbers)"
   ]
  },
  {
   "cell_type": "markdown",
   "id": "f8afaa65",
   "metadata": {},
   "source": [
    "Buat program yang menghapus elemen dari set."
   ]
  },
  {
   "cell_type": "code",
   "execution_count": 51,
   "id": "dad6b0b6",
   "metadata": {},
   "outputs": [
    {
     "name": "stdout",
     "output_type": "stream",
     "text": [
      "{1, 2, 4, 5, 6}\n"
     ]
    }
   ],
   "source": [
    "unique_numbers.remove(3)\n",
    "print(unique_numbers)"
   ]
  },
  {
   "cell_type": "markdown",
   "id": "140a9564",
   "metadata": {},
   "source": [
    "Buat program yang menampilkan irisan dari dua set."
   ]
  },
  {
   "cell_type": "code",
   "execution_count": 52,
   "id": "33fc1e6e",
   "metadata": {},
   "outputs": [
    {
     "name": "stdout",
     "output_type": "stream",
     "text": [
      "{2, 3}\n"
     ]
    }
   ],
   "source": [
    "set1 = {1, 2, 3}\n",
    "set2 = {2, 3, 4}\n",
    "print(set1.intersection(set2))"
   ]
  },
  {
   "cell_type": "markdown",
   "id": "00dd8acc",
   "metadata": {},
   "source": [
    "Buat program yang menampilkan gabungan dari dua set."
   ]
  },
  {
   "cell_type": "code",
   "execution_count": 53,
   "id": "c0fcb6eb",
   "metadata": {},
   "outputs": [
    {
     "name": "stdout",
     "output_type": "stream",
     "text": [
      "{1, 2, 3, 4}\n"
     ]
    }
   ],
   "source": [
    "print(set1.union(set2))"
   ]
  },
  {
   "cell_type": "markdown",
   "id": "22ba744e",
   "metadata": {},
   "source": [
    "Buat program yang mengecek apakah satu set merupakan subset dari set lain."
   ]
  },
  {
   "cell_type": "code",
   "execution_count": 54,
   "id": "de1ba472",
   "metadata": {},
   "outputs": [
    {
     "name": "stdout",
     "output_type": "stream",
     "text": [
      "False\n"
     ]
    }
   ],
   "source": [
    "print(set1.issubset(set2))"
   ]
  },
  {
   "cell_type": "markdown",
   "id": "041d8c3d",
   "metadata": {},
   "source": [
    "Buat program yang menampilkan perbedaan dari dua set."
   ]
  },
  {
   "cell_type": "code",
   "execution_count": 56,
   "id": "97061fbd",
   "metadata": {},
   "outputs": [
    {
     "name": "stdout",
     "output_type": "stream",
     "text": [
      "{1}\n"
     ]
    }
   ],
   "source": [
    "print(set1.difference(set2))"
   ]
  },
  {
   "cell_type": "markdown",
   "id": "93e82615",
   "metadata": {},
   "source": [
    "Buat program untuk menghitung elemen unik dalam sebuah list menggunakan set."
   ]
  },
  {
   "cell_type": "code",
   "execution_count": 57,
   "id": "f83b14b5",
   "metadata": {},
   "outputs": [
    {
     "name": "stdout",
     "output_type": "stream",
     "text": [
      "5\n"
     ]
    }
   ],
   "source": [
    "numbers = [1, 2, 2, 3, 4, 4, 4, 5]\n",
    "unique_numbers = set(numbers)\n",
    "print(len(unique_numbers))"
   ]
  },
  {
   "cell_type": "markdown",
   "id": "36b5a81d",
   "metadata": {},
   "source": [
    "Buat program yang membuat dan menulis teks ke dalam file."
   ]
  },
  {
   "cell_type": "code",
   "execution_count": 58,
   "id": "b5e77efb",
   "metadata": {},
   "outputs": [],
   "source": [
    "with open(\"example.txt\", \"w\") as file:\n",
    "    file.write(\"Hello, world!\")"
   ]
  },
  {
   "cell_type": "markdown",
   "id": "cf47282b",
   "metadata": {},
   "source": [
    "Buat program yang membaca isi dari file teks."
   ]
  },
  {
   "cell_type": "code",
   "execution_count": 59,
   "id": "e1fed957",
   "metadata": {},
   "outputs": [
    {
     "name": "stdout",
     "output_type": "stream",
     "text": [
      "Hello, world!\n"
     ]
    }
   ],
   "source": [
    "with open(\"example.txt\", \"r\") as file:\n",
    "    content = file.read()\n",
    "    print(content)"
   ]
  },
  {
   "cell_type": "markdown",
   "id": "5ab555ab",
   "metadata": {},
   "source": [
    "Buat program untuk menambahkan teks baru ke file yang sudah ada."
   ]
  },
  {
   "cell_type": "code",
   "execution_count": 60,
   "id": "732259b3",
   "metadata": {},
   "outputs": [],
   "source": [
    "with open(\"example.txt\", \"a\") as file:\n",
    "    file.write(\"\\nNew line added.\")"
   ]
  },
  {
   "cell_type": "markdown",
   "id": "fdaec451",
   "metadata": {},
   "source": [
    "Buat program yang menampilkan isi file baris per baris."
   ]
  },
  {
   "cell_type": "code",
   "execution_count": 61,
   "id": "d8c8ad03",
   "metadata": {},
   "outputs": [
    {
     "name": "stdout",
     "output_type": "stream",
     "text": [
      "Hello, world!\n",
      "New line added."
     ]
    }
   ],
   "source": [
    "with open(\"example.txt\", \"r\") as file:\n",
    "    for line in file:\n",
    "        print(line, end=\"\")"
   ]
  },
  {
   "cell_type": "markdown",
   "id": "15af4e00",
   "metadata": {},
   "source": [
    "Buat program yang menghitung jumlah kata dalam sebuah file."
   ]
  },
  {
   "cell_type": "code",
   "execution_count": 62,
   "id": "22877e73",
   "metadata": {},
   "outputs": [
    {
     "name": "stdout",
     "output_type": "stream",
     "text": [
      "5\n"
     ]
    }
   ],
   "source": [
    "with open(\"example.txt\", \"r\") as file:\n",
    "    content = file.read()\n",
    "    word_count = len(content.split())\n",
    "    print(word_count)"
   ]
  },
  {
   "cell_type": "markdown",
   "id": "916c4a5d",
   "metadata": {},
   "source": [
    "Buat program untuk menghapus file."
   ]
  },
  {
   "cell_type": "code",
   "execution_count": 63,
   "id": "27d21893",
   "metadata": {},
   "outputs": [],
   "source": [
    "import os\n",
    "os.remove(\"example.txt\")"
   ]
  },
  {
   "cell_type": "markdown",
   "id": "e80becc6",
   "metadata": {},
   "source": [
    "Buat program yang memeriksa apakah sebuah file ada atau tidak."
   ]
  },
  {
   "cell_type": "code",
   "execution_count": 64,
   "id": "f538d680",
   "metadata": {},
   "outputs": [
    {
     "name": "stdout",
     "output_type": "stream",
     "text": [
      "File does not exist\n"
     ]
    }
   ],
   "source": [
    "if os.path.exists(\"example.txt\"):\n",
    "    print(\"File exists\")\n",
    "else:\n",
    "    print(\"File does not exist\")\n"
   ]
  },
  {
   "cell_type": "markdown",
   "id": "fa187078",
   "metadata": {},
   "source": [
    "Buat program untuk membuat list dari angka 1 sampai 10 menggunakan list comprehension."
   ]
  },
  {
   "cell_type": "code",
   "execution_count": 65,
   "id": "2679b0f5",
   "metadata": {},
   "outputs": [
    {
     "name": "stdout",
     "output_type": "stream",
     "text": [
      "[1, 2, 3, 4, 5, 6, 7, 8, 9, 10]\n"
     ]
    }
   ],
   "source": [
    "numbers = [x for x in range(1, 11)]\n",
    "print(numbers)"
   ]
  },
  {
   "cell_type": "markdown",
   "id": "25b74638",
   "metadata": {},
   "source": [
    "Buat program untuk membuat list bilangan genap dari 1 sampai 20."
   ]
  },
  {
   "cell_type": "code",
   "execution_count": 66,
   "id": "f144546c",
   "metadata": {},
   "outputs": [
    {
     "name": "stdout",
     "output_type": "stream",
     "text": [
      "[2, 4, 6, 8, 10, 12, 14, 16, 18, 20]\n"
     ]
    }
   ],
   "source": [
    "evens = [x for x in range(1, 21) if x % 2 == 0]\n",
    "print(evens)"
   ]
  },
  {
   "cell_type": "markdown",
   "id": "5e9a6763",
   "metadata": {},
   "source": [
    "Buat program untuk membuat list bilangan kuadrat dari 1 sampai 10."
   ]
  },
  {
   "cell_type": "code",
   "execution_count": 67,
   "id": "f7e40e90",
   "metadata": {},
   "outputs": [
    {
     "name": "stdout",
     "output_type": "stream",
     "text": [
      "[1, 4, 9, 16, 25, 36, 49, 64, 81, 100]\n"
     ]
    }
   ],
   "source": [
    "squares = [x**2 for x in range(1, 11)]\n",
    "print(squares)"
   ]
  },
  {
   "cell_type": "markdown",
   "id": "b8917d57",
   "metadata": {},
   "source": [
    "Buat program untuk mengubah setiap elemen dalam list menjadi huruf besar."
   ]
  },
  {
   "cell_type": "code",
   "execution_count": 68,
   "id": "7d4897e7",
   "metadata": {},
   "outputs": [
    {
     "name": "stdout",
     "output_type": "stream",
     "text": [
      "['HELLO', 'WORLD']\n"
     ]
    }
   ],
   "source": [
    "words = [\"hello\", \"world\"]\n",
    "upper_words = [word.upper() for word in words]\n",
    "print(upper_words)"
   ]
  },
  {
   "cell_type": "markdown",
   "id": "0cee1812",
   "metadata": {},
   "source": [
    "Buat program yang menyaring elemen dalam list jika lebih besar dari 5."
   ]
  },
  {
   "cell_type": "code",
   "execution_count": 69,
   "id": "739d7b5e",
   "metadata": {},
   "outputs": [
    {
     "name": "stdout",
     "output_type": "stream",
     "text": [
      "[6, 7, 8]\n"
     ]
    }
   ],
   "source": [
    "numbers = [1, 2, 3, 6, 7, 8]\n",
    "filtered = [x for x in numbers if x > 5]\n",
    "print(filtered)"
   ]
  },
  {
   "cell_type": "markdown",
   "id": "8e2f20fc",
   "metadata": {},
   "source": [
    "Buat program untuk membuat list huruf vokal dari string."
   ]
  },
  {
   "cell_type": "code",
   "execution_count": 70,
   "id": "50c76bd1",
   "metadata": {},
   "outputs": [
    {
     "name": "stdout",
     "output_type": "stream",
     "text": [
      "['e', 'o', 'o']\n"
     ]
    }
   ],
   "source": [
    "string = \"hello world\"\n",
    "vowels = [char for char in string if char in 'aeiou']\n",
    "print(vowels)"
   ]
  },
  {
   "cell_type": "markdown",
   "id": "4d89a00e",
   "metadata": {},
   "source": [
    "Buat program yang menangkap kesalahan pembagian dengan nol."
   ]
  },
  {
   "cell_type": "markdown",
   "id": "f9ed65ad",
   "metadata": {},
   "source": [
    "# Exception"
   ]
  },
  {
   "cell_type": "code",
   "execution_count": 71,
   "id": "93ca6287",
   "metadata": {},
   "outputs": [
    {
     "ename": "ZeroDivisionError",
     "evalue": "division by zero",
     "output_type": "error",
     "traceback": [
      "\u001b[1;31m---------------------------------------------------------------------------\u001b[0m",
      "\u001b[1;31mZeroDivisionError\u001b[0m                         Traceback (most recent call last)",
      "Cell \u001b[1;32mIn[71], line 1\u001b[0m\n\u001b[1;32m----> 1\u001b[0m result \u001b[38;5;241m=\u001b[39m \u001b[38;5;241m10\u001b[39m\u001b[38;5;241m/\u001b[39m\u001b[38;5;241m0\u001b[39m\n\u001b[0;32m      2\u001b[0m \u001b[38;5;28mprint\u001b[39m(result)\n",
      "\u001b[1;31mZeroDivisionError\u001b[0m: division by zero"
     ]
    }
   ],
   "source": [
    "result = 10/0\n",
    "print(result)"
   ]
  },
  {
   "cell_type": "code",
   "execution_count": 72,
   "id": "0eafc291",
   "metadata": {},
   "outputs": [
    {
     "name": "stdout",
     "output_type": "stream",
     "text": [
      "Division by zero is not allowed\n"
     ]
    }
   ],
   "source": [
    "try:\n",
    "    result = 10 / 0\n",
    "except ZeroDivisionError:\n",
    "    print(\"Division by zero is not allowed\")"
   ]
  },
  {
   "cell_type": "markdown",
   "id": "70ab38f0",
   "metadata": {},
   "source": [
    "Buat program yang menangkap kesalahan input yang bukan angka."
   ]
  },
  {
   "cell_type": "code",
   "execution_count": 73,
   "id": "2f4c1f33",
   "metadata": {},
   "outputs": [
    {
     "ename": "ValueError",
     "evalue": "invalid literal for int() with base 10: 'ini angka'",
     "output_type": "error",
     "traceback": [
      "\u001b[1;31m---------------------------------------------------------------------------\u001b[0m",
      "\u001b[1;31mValueError\u001b[0m                                Traceback (most recent call last)",
      "Cell \u001b[1;32mIn[73], line 2\u001b[0m\n\u001b[0;32m      1\u001b[0m angka \u001b[38;5;241m=\u001b[39m \u001b[38;5;124m'\u001b[39m\u001b[38;5;124mini angka\u001b[39m\u001b[38;5;124m'\u001b[39m\n\u001b[1;32m----> 2\u001b[0m \u001b[38;5;28mprint\u001b[39m(\u001b[38;5;28mint\u001b[39m(angka))\n",
      "\u001b[1;31mValueError\u001b[0m: invalid literal for int() with base 10: 'ini angka'"
     ]
    }
   ],
   "source": [
    "angka = 'ini angka'\n",
    "print(int(angka))"
   ]
  },
  {
   "cell_type": "code",
   "execution_count": 74,
   "id": "114b227e",
   "metadata": {},
   "outputs": [
    {
     "name": "stdout",
     "output_type": "stream",
     "text": [
      "\n"
     ]
    }
   ],
   "source": [
    "angka = 'ini angka'\n",
    "try:\n",
    "  angka = int(angka)\n",
    "except ValueError:\n",
    "  print(\"\")"
   ]
  },
  {
   "cell_type": "code",
   "execution_count": 75,
   "id": "9e91530f",
   "metadata": {},
   "outputs": [
    {
     "name": "stdout",
     "output_type": "stream",
     "text": [
      "Enter a number: w\n",
      "Input is not a valid number\n"
     ]
    }
   ],
   "source": [
    "try:\n",
    "    number = int(input(\"Enter a number: \"))\n",
    "except ValueError:\n",
    "    print(\"Input is not a valid number\")"
   ]
  },
  {
   "cell_type": "markdown",
   "id": "5d6f1c97",
   "metadata": {},
   "source": [
    "Buat program yang menangkap kesalahan akses elemen list di luar indeks."
   ]
  },
  {
   "cell_type": "code",
   "execution_count": 76,
   "id": "45d74879",
   "metadata": {},
   "outputs": [
    {
     "name": "stdout",
     "output_type": "stream",
     "text": [
      "Index out of range\n"
     ]
    }
   ],
   "source": [
    "my_list = [1, 2, 3]\n",
    "try:\n",
    "    print(my_list[5])\n",
    "except IndexError:\n",
    "    print(\"Index out of range\")"
   ]
  },
  {
   "cell_type": "markdown",
   "id": "a541480a",
   "metadata": {},
   "source": [
    "Buat program yang menangani beberapa tipe kesalahan dengan exception yang berbeda."
   ]
  },
  {
   "cell_type": "code",
   "execution_count": 77,
   "id": "b9230c05",
   "metadata": {},
   "outputs": [
    {
     "name": "stdout",
     "output_type": "stream",
     "text": [
      "Enter a number: c\n",
      "Input is not a valid number\n"
     ]
    }
   ],
   "source": [
    "try:\n",
    "    result = 10 / int(input(\"Enter a number: \"))\n",
    "except ValueError:\n",
    "    print(\"Input is not a valid number\")\n",
    "except ZeroDivisionError:\n",
    "    print(\"Cannot divide by zero\")"
   ]
  },
  {
   "cell_type": "markdown",
   "id": "2130a566",
   "metadata": {},
   "source": [
    "Buat program yang menggunakan finally untuk menampilkan pesan setelah exception."
   ]
  },
  {
   "cell_type": "code",
   "execution_count": 78,
   "id": "95499e44",
   "metadata": {},
   "outputs": [
    {
     "name": "stdout",
     "output_type": "stream",
     "text": [
      "Division by zero is not allowed\n",
      "This will execute regardless of an exception\n"
     ]
    }
   ],
   "source": [
    "try:\n",
    "    result = 10 / 0\n",
    "except ZeroDivisionError:\n",
    "    print(\"Division by zero is not allowed\")\n",
    "finally:\n",
    "    print(\"This will execute regardless of an exception\")"
   ]
  },
  {
   "cell_type": "markdown",
   "id": "46d20504",
   "metadata": {},
   "source": [
    "Buat class Mahasiswa yang memiliki atribut nama dan umur."
   ]
  },
  {
   "cell_type": "code",
   "execution_count": 79,
   "id": "29e294fd",
   "metadata": {},
   "outputs": [],
   "source": [
    "class Mahasiswa:\n",
    "    def __init__(self, nama, umur):\n",
    "        self.nama = nama\n",
    "        self.umur = umur"
   ]
  },
  {
   "cell_type": "markdown",
   "id": "fa3b4877",
   "metadata": {},
   "source": [
    "Buat method dalam class untuk menampilkan informasi mahasiswa.\n"
   ]
  },
  {
   "cell_type": "code",
   "execution_count": 80,
   "id": "8ab43d90",
   "metadata": {},
   "outputs": [],
   "source": [
    "class Mahasiswa:\n",
    "    def __init__(self, nama, umur, jenis_kelamin):\n",
    "        self.nama = nama\n",
    "        self.u = umur\n",
    "        self.jk = jenis_kelamin\n",
    "\n",
    "    def tampilkan_informasi(self):\n",
    "        print(f\"Nama: {self.nama}, Umur: {self.u}, Jenis Kelamin : {self.jk}\")"
   ]
  },
  {
   "cell_type": "code",
   "execution_count": 81,
   "id": "2e9827a6",
   "metadata": {},
   "outputs": [
    {
     "name": "stdout",
     "output_type": "stream",
     "text": [
      "Nama: yanto, Umur: 98, Jenis Kelamin : Laki-laki\n"
     ]
    }
   ],
   "source": [
    "mhs = Mahasiswa('yanto', 98, 'Laki-laki')\n",
    "mhs.tampilkan_informasi() #memanggil fungsi untuk menampilkan informasi"
   ]
  },
  {
   "cell_type": "markdown",
   "id": "942956dc",
   "metadata": {},
   "source": [
    "Buat program untuk menginisialisasi objek dari class Mahasiswa."
   ]
  },
  {
   "cell_type": "code",
   "execution_count": 83,
   "id": "326067b7",
   "metadata": {},
   "outputs": [
    {
     "name": "stdout",
     "output_type": "stream",
     "text": [
      "Nama: Alice, Umur: 20, Jenis Kelamin : perempuan\n"
     ]
    }
   ],
   "source": [
    "mahasiswa1 = Mahasiswa(\"Alice\", 20, \"perempuan\")\n",
    "mahasiswa1.tampilkan_informasi()"
   ]
  },
  {
   "cell_type": "markdown",
   "id": "acb2dd6b",
   "metadata": {},
   "source": [
    "Buat program yang menggunakan constructor dalam class."
   ]
  },
  {
   "cell_type": "code",
   "execution_count": 84,
   "id": "7e205857",
   "metadata": {},
   "outputs": [
    {
     "name": "stdout",
     "output_type": "stream",
     "text": [
      "John\n"
     ]
    }
   ],
   "source": [
    "class Person:\n",
    "    def __init__(self, name):\n",
    "        self.name = name\n",
    "\n",
    "person = Person(\"John\")\n",
    "print(person.name)"
   ]
  },
  {
   "cell_type": "markdown",
   "id": "0093c2b8",
   "metadata": {},
   "source": [
    "Buat program yang menggunakan inheritance untuk class Person dan Mahasiswa."
   ]
  },
  {
   "cell_type": "code",
   "execution_count": 85,
   "id": "4d32bbe8",
   "metadata": {},
   "outputs": [
    {
     "name": "stdout",
     "output_type": "stream",
     "text": [
      "Alice 20\n"
     ]
    }
   ],
   "source": [
    "class Person:\n",
    "    def __init__(self, name):\n",
    "        self.name = name\n",
    "\n",
    "class Mahasiswa(Person):\n",
    "    def __init__(self, name, umur):\n",
    "        super().__init__(name)\n",
    "        self.umur = umur\n",
    "\n",
    "mahasiswa = Mahasiswa(\"Alice\", 20)\n",
    "print(mahasiswa.name, mahasiswa.umur)"
   ]
  },
  {
   "cell_type": "markdown",
   "id": "cff4a884",
   "metadata": {},
   "source": [
    "Buat program yang menggunakan method overriding dalam inheritance."
   ]
  },
  {
   "cell_type": "code",
   "execution_count": 86,
   "id": "ffce562c",
   "metadata": {},
   "outputs": [
    {
     "name": "stdout",
     "output_type": "stream",
     "text": [
      "Dog barks\n"
     ]
    }
   ],
   "source": [
    "class Animal:\n",
    "    def speak(self):\n",
    "        print(\"Animal speaks\")\n",
    "\n",
    "class Dog(Animal):\n",
    "    def speak(self):\n",
    "        print(\"Dog barks\")\n",
    "\n",
    "dog = Dog()\n",
    "dog.speak()"
   ]
  },
  {
   "cell_type": "markdown",
   "id": "bbfe255d",
   "metadata": {},
   "source": [
    "Buat program yang menampilkan jumlah objek yang dibuat dari sebuah class."
   ]
  },
  {
   "cell_type": "code",
   "execution_count": 87,
   "id": "aaba72d0",
   "metadata": {},
   "outputs": [
    {
     "name": "stdout",
     "output_type": "stream",
     "text": [
      "2\n"
     ]
    }
   ],
   "source": [
    "class Counter:\n",
    "    count = 0\n",
    "\n",
    "    def __init__(self):\n",
    "        Counter.count += 1\n",
    "\n",
    "obj1 = Counter()\n",
    "obj2 = Counter()\n",
    "print(Counter.count)"
   ]
  },
  {
   "cell_type": "markdown",
   "id": "23ab1d95",
   "metadata": {},
   "source": [
    "Buat program yang membuat class dengan method statis."
   ]
  },
  {
   "cell_type": "code",
   "execution_count": 88,
   "id": "40325cfd",
   "metadata": {},
   "outputs": [
    {
     "name": "stdout",
     "output_type": "stream",
     "text": [
      "12\n"
     ]
    }
   ],
   "source": [
    "class MathUtils:\n",
    "    @staticmethod\n",
    "    def add(a, b):\n",
    "        return a + b\n",
    "\n",
    "print(MathUtils.add(5, 7))"
   ]
  },
  {
   "cell_type": "markdown",
   "id": "374ed820",
   "metadata": {},
   "source": [
    "Buat program yang meng-import modul matematika dan menggunakan fungsi sqrt."
   ]
  },
  {
   "cell_type": "code",
   "execution_count": 89,
   "id": "c1315584",
   "metadata": {},
   "outputs": [
    {
     "name": "stdout",
     "output_type": "stream",
     "text": [
      "4.0\n"
     ]
    }
   ],
   "source": [
    "import math\n",
    "print(math.sqrt(16))"
   ]
  },
  {
   "cell_type": "markdown",
   "id": "f9b9d79e",
   "metadata": {},
   "source": [
    "Buat modul sendiri untuk menghitung luas dan keliling persegi."
   ]
  },
  {
   "cell_type": "code",
   "execution_count": 90,
   "id": "f381ecda",
   "metadata": {},
   "outputs": [],
   "source": [
    "# square.py\n",
    "def area(side):\n",
    "    return side * side\n",
    "\n",
    "def perimeter(side):\n",
    "    return 4 * side"
   ]
  },
  {
   "cell_type": "code",
   "execution_count": 91,
   "id": "8b6e3e90",
   "metadata": {},
   "outputs": [],
   "source": [
    "# cuboid.py\n",
    "def volume(length, width, height):\n",
    "    return length * width * height"
   ]
  },
  {
   "cell_type": "code",
   "execution_count": 92,
   "id": "8a1e48ff",
   "metadata": {},
   "outputs": [],
   "source": [
    "# sphere.py\n",
    "import math\n",
    "def volume(radius):\n",
    "    return (4/3) * math.pi * radius**3"
   ]
  },
  {
   "cell_type": "markdown",
   "id": "d3731443",
   "metadata": {},
   "source": [
    "Buat package untuk menghitung volume berbagai bangun ruang.\n"
   ]
  },
  {
   "cell_type": "code",
   "execution_count": 93,
   "id": "9c8fe5c0",
   "metadata": {},
   "outputs": [],
   "source": [
    "import math\n",
    "def volume(radius):\n",
    "    return (4/3) * math.pi * radius**3"
   ]
  },
  {
   "cell_type": "markdown",
   "id": "c7467df8",
   "metadata": {},
   "source": [
    "Buat program yang meng-import modul random dan menghasilkan angka acak."
   ]
  },
  {
   "cell_type": "code",
   "execution_count": 94,
   "id": "3d7447d4",
   "metadata": {},
   "outputs": [
    {
     "name": "stdout",
     "output_type": "stream",
     "text": [
      "11\n"
     ]
    }
   ],
   "source": [
    "import random\n",
    "print(random.randint(1, 100))"
   ]
  },
  {
   "cell_type": "markdown",
   "id": "cb125b12",
   "metadata": {},
   "source": [
    "Buat program yang menggunakan fungsi waktu untuk menghitung lama eksekusi program."
   ]
  },
  {
   "cell_type": "code",
   "execution_count": 95,
   "id": "fdefba45",
   "metadata": {},
   "outputs": [
    {
     "name": "stdout",
     "output_type": "stream",
     "text": [
      "Execution time: 1.0009448528289795 seconds\n"
     ]
    }
   ],
   "source": [
    "import time\n",
    "start_time = time.time()\n",
    "\n",
    "time.sleep(1)\n",
    "end_time = time.time()\n",
    "print(\"Execution time:\", end_time - start_time, \"seconds\")"
   ]
  },
  {
   "cell_type": "markdown",
   "id": "2e220538",
   "metadata": {},
   "source": [
    "Buat fungsi lambda untuk menghitung kuadrat dari sebuah angka."
   ]
  },
  {
   "cell_type": "code",
   "execution_count": 96,
   "id": "b61c4d8d",
   "metadata": {},
   "outputs": [
    {
     "name": "stdout",
     "output_type": "stream",
     "text": [
      "25\n"
     ]
    }
   ],
   "source": [
    "square = lambda x: x * x\n",
    "print(square(5))"
   ]
  },
  {
   "cell_type": "markdown",
   "id": "df8b3dd4",
   "metadata": {},
   "source": [
    "\n",
    "Buat program yang menggunakan map untuk menghitung kuadrat dari semua elemen dalam list."
   ]
  },
  {
   "cell_type": "code",
   "execution_count": 97,
   "id": "8bd91a99",
   "metadata": {},
   "outputs": [
    {
     "name": "stdout",
     "output_type": "stream",
     "text": [
      "[1, 4, 9, 16, 25]\n"
     ]
    }
   ],
   "source": [
    "numbers = [1, 2, 3, 4, 5]\n",
    "squares = list(map(lambda x: x * x, numbers))\n",
    "print(squares)"
   ]
  },
  {
   "cell_type": "markdown",
   "id": "431a7bd9",
   "metadata": {},
   "source": [
    "Buat program yang menggunakan filter untuk menyaring bilangan ganjil dari list."
   ]
  },
  {
   "cell_type": "code",
   "execution_count": 98,
   "id": "4d280688",
   "metadata": {},
   "outputs": [
    {
     "name": "stdout",
     "output_type": "stream",
     "text": [
      "[1, 3, 5]\n"
     ]
    }
   ],
   "source": [
    "numbers = [1, 2, 3, 4, 5, 6]\n",
    "odds = list(filter(lambda x: x % 2 != 0, numbers))\n",
    "print(odds)"
   ]
  },
  {
   "cell_type": "markdown",
   "id": "8f17cc0c",
   "metadata": {},
   "source": [
    "Buat program yang menggunakan reduce untuk menghitung jumlah semua elemen dalam list."
   ]
  },
  {
   "cell_type": "code",
   "execution_count": 99,
   "id": "81b42c49",
   "metadata": {},
   "outputs": [
    {
     "name": "stdout",
     "output_type": "stream",
     "text": [
      "15\n"
     ]
    }
   ],
   "source": [
    "from functools import reduce\n",
    "numbers = [1, 2, 3, 4, 5]\n",
    "total = reduce(lambda x, y: x + y, numbers)\n",
    "print(total)"
   ]
  },
  {
   "cell_type": "markdown",
   "id": "48c42bb0",
   "metadata": {},
   "source": [
    "Buat program untuk menghitung jumlah huruf vokal dalam sebuah string."
   ]
  },
  {
   "cell_type": "code",
   "execution_count": 100,
   "id": "a70b989c",
   "metadata": {},
   "outputs": [
    {
     "name": "stdout",
     "output_type": "stream",
     "text": [
      "3\n"
     ]
    }
   ],
   "source": [
    "string = \"hello world\"\n",
    "vowels = \"aeiou\"\n",
    "count = sum(1 for char in string if char in vowels)\n",
    "print(count)"
   ]
  },
  {
   "cell_type": "markdown",
   "id": "e6f47e31",
   "metadata": {},
   "source": [
    "Buat program untuk memeriksa apakah string adalah palindrom."
   ]
  },
  {
   "cell_type": "code",
   "execution_count": 101,
   "id": "bb391eeb",
   "metadata": {},
   "outputs": [
    {
     "name": "stdout",
     "output_type": "stream",
     "text": [
      "True\n"
     ]
    }
   ],
   "source": [
    "def is_palindrome(s):\n",
    "    return s == s[::-1]\n",
    "\n",
    "print(is_palindrome(\"madam\"))"
   ]
  },
  {
   "cell_type": "markdown",
   "id": "022f5ccf",
   "metadata": {},
   "source": [
    "Buat program yang menggunakan nested loop untuk menampilkan pola bintang."
   ]
  },
  {
   "cell_type": "code",
   "execution_count": 102,
   "id": "21d01da0",
   "metadata": {},
   "outputs": [
    {
     "name": "stdout",
     "output_type": "stream",
     "text": [
      "*\n",
      "**\n",
      "***\n",
      "****\n",
      "*****\n"
     ]
    }
   ],
   "source": [
    "for i in range(5):\n",
    "    for j in range(i + 1):\n",
    "        print(\"*\", end=\"\")\n",
    "    print()"
   ]
  },
  {
   "cell_type": "markdown",
   "id": "39ea9e66",
   "metadata": {},
   "source": [
    "Buat program untuk menghitung faktorial menggunakan iterasi."
   ]
  },
  {
   "cell_type": "code",
   "execution_count": 103,
   "id": "d4a6f621",
   "metadata": {},
   "outputs": [
    {
     "name": "stdout",
     "output_type": "stream",
     "text": [
      "120\n"
     ]
    }
   ],
   "source": [
    "def factorial(n):\n",
    "    result = 1\n",
    "    for i in range(1, n + 1):\n",
    "        result *= i\n",
    "    return result\n",
    "\n",
    "print(factorial(5))"
   ]
  },
  {
   "cell_type": "markdown",
   "id": "85626b86",
   "metadata": {},
   "source": [
    "Buat program yang meminta input nama dan umur lalu menampilkannya dengan format tertentu."
   ]
  },
  {
   "cell_type": "code",
   "execution_count": 104,
   "id": "56bd6e14",
   "metadata": {},
   "outputs": [
    {
     "name": "stdout",
     "output_type": "stream",
     "text": [
      "Enter your name: fufufafa\n",
      "Enter your age: 90\n",
      "Name: fufufafa, Age: 90\n"
     ]
    }
   ],
   "source": [
    "name = input(\"Enter your name: \")\n",
    "age = int(input(\"Enter your age: \"))\n",
    "print(f\"Name: {name}, Age: {age}\")"
   ]
  },
  {
   "cell_type": "markdown",
   "id": "aa2e89f1",
   "metadata": {},
   "source": [
    "Buat program yang membalik urutan elemen dalam list tanpa menggunakan fungsi built-in."
   ]
  },
  {
   "cell_type": "code",
   "execution_count": 105,
   "id": "e4387a3f",
   "metadata": {},
   "outputs": [
    {
     "name": "stdout",
     "output_type": "stream",
     "text": [
      "[5, 4, 3, 2, 1]\n"
     ]
    }
   ],
   "source": [
    "my_list = [1, 2, 3, 4, 5]\n",
    "reversed_list = my_list[::-1]\n",
    "print(reversed_list)"
   ]
  },
  {
   "cell_type": "markdown",
   "id": "e80d0c96",
   "metadata": {},
   "source": [
    "Buat program yang menampilkan hari saat ini menggunakan modul datetime."
   ]
  },
  {
   "cell_type": "code",
   "execution_count": 106,
   "id": "4952395b",
   "metadata": {},
   "outputs": [
    {
     "name": "stdout",
     "output_type": "stream",
     "text": [
      "Wednesday\n"
     ]
    }
   ],
   "source": [
    "import datetime\n",
    "today = datetime.datetime.now()\n",
    "print(today.strftime(\"%A\"))"
   ]
  },
  {
   "cell_type": "markdown",
   "id": "64d873ef",
   "metadata": {},
   "source": [
    "Buat program yang menerima dua angka dari input, lalu menampilkan hasil pembagiannya."
   ]
  },
  {
   "cell_type": "code",
   "execution_count": 107,
   "id": "7db98f84",
   "metadata": {},
   "outputs": [
    {
     "name": "stdout",
     "output_type": "stream",
     "text": [
      "Enter first number: 20\n",
      "Enter second number: 50\n",
      "0.4\n"
     ]
    }
   ],
   "source": [
    "num1 = float(input(\"Enter first number: \"))\n",
    "num2 = float(input(\"Enter second number: \"))\n",
    "\n",
    "if num2 != 0:\n",
    "    print(num1 / num2)\n",
    "else:\n",
    "    print(\"Cannot divide by zero\")"
   ]
  }
 ],
 "metadata": {
  "kernelspec": {
   "display_name": "Python 3 (ipykernel)",
   "language": "python",
   "name": "python3"
  },
  "language_info": {
   "codemirror_mode": {
    "name": "ipython",
    "version": 3
   },
   "file_extension": ".py",
   "mimetype": "text/x-python",
   "name": "python",
   "nbconvert_exporter": "python",
   "pygments_lexer": "ipython3",
   "version": "3.11.5"
  }
 },
 "nbformat": 4,
 "nbformat_minor": 5
}
