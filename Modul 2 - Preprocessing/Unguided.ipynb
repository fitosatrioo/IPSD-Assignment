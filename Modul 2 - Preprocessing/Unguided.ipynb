{
 "cells": [
  {
   "cell_type": "code",
   "execution_count": 14,
   "id": "b6e993c3",
   "metadata": {},
   "outputs": [],
   "source": [
    "import pandas as pd\n",
    "import numpy as np"
   ]
  },
  {
   "cell_type": "code",
   "execution_count": 17,
   "id": "9eb1a894",
   "metadata": {},
   "outputs": [],
   "source": [
    "movie = pd.read_csv(\"Movie_classification.csv\")"
   ]
  },
  {
   "cell_type": "markdown",
   "id": "ae8b9af1",
   "metadata": {},
   "source": [
    "### Load Data"
   ]
  },
  {
   "cell_type": "code",
   "execution_count": 18,
   "id": "e742c7b8",
   "metadata": {},
   "outputs": [
    {
     "data": {
      "text/html": [
       "<div>\n",
       "<style scoped>\n",
       "    .dataframe tbody tr th:only-of-type {\n",
       "        vertical-align: middle;\n",
       "    }\n",
       "\n",
       "    .dataframe tbody tr th {\n",
       "        vertical-align: top;\n",
       "    }\n",
       "\n",
       "    .dataframe thead th {\n",
       "        text-align: right;\n",
       "    }\n",
       "</style>\n",
       "<table border=\"1\" class=\"dataframe\">\n",
       "  <thead>\n",
       "    <tr style=\"text-align: right;\">\n",
       "      <th></th>\n",
       "      <th>Marketing expense</th>\n",
       "      <th>Production expense</th>\n",
       "      <th>Multiplex coverage</th>\n",
       "      <th>Budget</th>\n",
       "      <th>Movie_length</th>\n",
       "      <th>Lead_ Actor_Rating</th>\n",
       "      <th>Lead_Actress_rating</th>\n",
       "      <th>Director_rating</th>\n",
       "      <th>Producer_rating</th>\n",
       "      <th>Critic_rating</th>\n",
       "      <th>Trailer_views</th>\n",
       "      <th>3D_available</th>\n",
       "      <th>Time_taken</th>\n",
       "      <th>Twitter_hastags</th>\n",
       "      <th>Genre</th>\n",
       "      <th>Avg_age_actors</th>\n",
       "      <th>Num_multiplex</th>\n",
       "      <th>Collection</th>\n",
       "      <th>Start_Tech_Oscar</th>\n",
       "    </tr>\n",
       "  </thead>\n",
       "  <tbody>\n",
       "    <tr>\n",
       "      <th>0</th>\n",
       "      <td>20.1264</td>\n",
       "      <td>59.62</td>\n",
       "      <td>0.462</td>\n",
       "      <td>36524.125</td>\n",
       "      <td>138.7</td>\n",
       "      <td>7.825</td>\n",
       "      <td>8.095</td>\n",
       "      <td>7.910</td>\n",
       "      <td>7.995</td>\n",
       "      <td>7.94</td>\n",
       "      <td>527367</td>\n",
       "      <td>YES</td>\n",
       "      <td>109.60</td>\n",
       "      <td>223.840</td>\n",
       "      <td>Thriller</td>\n",
       "      <td>23</td>\n",
       "      <td>494</td>\n",
       "      <td>48000</td>\n",
       "      <td>1</td>\n",
       "    </tr>\n",
       "    <tr>\n",
       "      <th>1</th>\n",
       "      <td>20.5462</td>\n",
       "      <td>69.14</td>\n",
       "      <td>0.531</td>\n",
       "      <td>35668.655</td>\n",
       "      <td>152.4</td>\n",
       "      <td>7.505</td>\n",
       "      <td>7.650</td>\n",
       "      <td>7.440</td>\n",
       "      <td>7.470</td>\n",
       "      <td>7.44</td>\n",
       "      <td>494055</td>\n",
       "      <td>NO</td>\n",
       "      <td>146.64</td>\n",
       "      <td>243.456</td>\n",
       "      <td>Drama</td>\n",
       "      <td>42</td>\n",
       "      <td>462</td>\n",
       "      <td>43200</td>\n",
       "      <td>0</td>\n",
       "    </tr>\n",
       "    <tr>\n",
       "      <th>2</th>\n",
       "      <td>20.5458</td>\n",
       "      <td>69.14</td>\n",
       "      <td>0.531</td>\n",
       "      <td>39912.675</td>\n",
       "      <td>134.6</td>\n",
       "      <td>7.485</td>\n",
       "      <td>7.570</td>\n",
       "      <td>7.495</td>\n",
       "      <td>7.515</td>\n",
       "      <td>7.44</td>\n",
       "      <td>547051</td>\n",
       "      <td>NO</td>\n",
       "      <td>147.88</td>\n",
       "      <td>2022.400</td>\n",
       "      <td>Comedy</td>\n",
       "      <td>38</td>\n",
       "      <td>458</td>\n",
       "      <td>69400</td>\n",
       "      <td>1</td>\n",
       "    </tr>\n",
       "    <tr>\n",
       "      <th>3</th>\n",
       "      <td>20.6474</td>\n",
       "      <td>59.36</td>\n",
       "      <td>0.542</td>\n",
       "      <td>38873.890</td>\n",
       "      <td>119.3</td>\n",
       "      <td>6.895</td>\n",
       "      <td>7.035</td>\n",
       "      <td>6.920</td>\n",
       "      <td>7.020</td>\n",
       "      <td>8.26</td>\n",
       "      <td>516279</td>\n",
       "      <td>YES</td>\n",
       "      <td>185.36</td>\n",
       "      <td>225.344</td>\n",
       "      <td>Drama</td>\n",
       "      <td>45</td>\n",
       "      <td>472</td>\n",
       "      <td>66800</td>\n",
       "      <td>1</td>\n",
       "    </tr>\n",
       "    <tr>\n",
       "      <th>4</th>\n",
       "      <td>21.3810</td>\n",
       "      <td>59.36</td>\n",
       "      <td>0.542</td>\n",
       "      <td>39701.585</td>\n",
       "      <td>127.7</td>\n",
       "      <td>6.920</td>\n",
       "      <td>7.070</td>\n",
       "      <td>6.815</td>\n",
       "      <td>7.070</td>\n",
       "      <td>8.26</td>\n",
       "      <td>531448</td>\n",
       "      <td>NO</td>\n",
       "      <td>176.48</td>\n",
       "      <td>225.792</td>\n",
       "      <td>Drama</td>\n",
       "      <td>55</td>\n",
       "      <td>395</td>\n",
       "      <td>72400</td>\n",
       "      <td>1</td>\n",
       "    </tr>\n",
       "  </tbody>\n",
       "</table>\n",
       "</div>"
      ],
      "text/plain": [
       "   Marketing expense  Production expense  Multiplex coverage     Budget  \\\n",
       "0            20.1264               59.62               0.462  36524.125   \n",
       "1            20.5462               69.14               0.531  35668.655   \n",
       "2            20.5458               69.14               0.531  39912.675   \n",
       "3            20.6474               59.36               0.542  38873.890   \n",
       "4            21.3810               59.36               0.542  39701.585   \n",
       "\n",
       "   Movie_length  Lead_ Actor_Rating  Lead_Actress_rating  Director_rating  \\\n",
       "0         138.7               7.825                8.095            7.910   \n",
       "1         152.4               7.505                7.650            7.440   \n",
       "2         134.6               7.485                7.570            7.495   \n",
       "3         119.3               6.895                7.035            6.920   \n",
       "4         127.7               6.920                7.070            6.815   \n",
       "\n",
       "   Producer_rating  Critic_rating  Trailer_views 3D_available  Time_taken  \\\n",
       "0            7.995           7.94         527367          YES      109.60   \n",
       "1            7.470           7.44         494055           NO      146.64   \n",
       "2            7.515           7.44         547051           NO      147.88   \n",
       "3            7.020           8.26         516279          YES      185.36   \n",
       "4            7.070           8.26         531448           NO      176.48   \n",
       "\n",
       "   Twitter_hastags     Genre  Avg_age_actors  Num_multiplex  Collection  \\\n",
       "0          223.840  Thriller              23            494       48000   \n",
       "1          243.456     Drama              42            462       43200   \n",
       "2         2022.400    Comedy              38            458       69400   \n",
       "3          225.344     Drama              45            472       66800   \n",
       "4          225.792     Drama              55            395       72400   \n",
       "\n",
       "   Start_Tech_Oscar  \n",
       "0                 1  \n",
       "1                 0  \n",
       "2                 1  \n",
       "3                 1  \n",
       "4                 1  "
      ]
     },
     "execution_count": 18,
     "metadata": {},
     "output_type": "execute_result"
    }
   ],
   "source": [
    "movie.head()"
   ]
  },
  {
   "cell_type": "markdown",
   "id": "8ecfe057",
   "metadata": {},
   "source": [
    "### Cek Nilai Duplikat"
   ]
  },
  {
   "cell_type": "code",
   "execution_count": 19,
   "id": "8839ff98",
   "metadata": {},
   "outputs": [
    {
     "data": {
      "text/plain": [
       "0"
      ]
     },
     "execution_count": 19,
     "metadata": {},
     "output_type": "execute_result"
    }
   ],
   "source": [
    "movie.duplicated().sum()"
   ]
  },
  {
   "cell_type": "markdown",
   "id": "7c9db1b2",
   "metadata": {},
   "source": [
    "tidak ada nilai duplikat pada data movie tersebut"
   ]
  },
  {
   "cell_type": "code",
   "execution_count": 20,
   "id": "3ce523fe",
   "metadata": {},
   "outputs": [
    {
     "data": {
      "text/plain": [
       "Marketing expense       0\n",
       "Production expense      0\n",
       "Multiplex coverage      0\n",
       "Budget                  0\n",
       "Movie_length            0\n",
       "Lead_ Actor_Rating      0\n",
       "Lead_Actress_rating     0\n",
       "Director_rating         0\n",
       "Producer_rating         0\n",
       "Critic_rating           0\n",
       "Trailer_views           0\n",
       "3D_available            0\n",
       "Time_taken             12\n",
       "Twitter_hastags         0\n",
       "Genre                   0\n",
       "Avg_age_actors          0\n",
       "Num_multiplex           0\n",
       "Collection              0\n",
       "Start_Tech_Oscar        0\n",
       "dtype: int64"
      ]
     },
     "execution_count": 20,
     "metadata": {},
     "output_type": "execute_result"
    }
   ],
   "source": [
    "movie.isna().sum()"
   ]
  },
  {
   "cell_type": "code",
   "execution_count": 21,
   "id": "30df8275",
   "metadata": {},
   "outputs": [
    {
     "data": {
      "text/plain": [
       "Marketing expense      0.000000\n",
       "Production expense     0.000000\n",
       "Multiplex coverage     0.000000\n",
       "Budget                 0.000000\n",
       "Movie_length           0.000000\n",
       "Lead_ Actor_Rating     0.000000\n",
       "Lead_Actress_rating    0.000000\n",
       "Director_rating        0.000000\n",
       "Producer_rating        0.000000\n",
       "Critic_rating          0.000000\n",
       "Trailer_views          0.000000\n",
       "3D_available           0.000000\n",
       "Time_taken             2.371542\n",
       "Twitter_hastags        0.000000\n",
       "Genre                  0.000000\n",
       "Avg_age_actors         0.000000\n",
       "Num_multiplex          0.000000\n",
       "Collection             0.000000\n",
       "Start_Tech_Oscar       0.000000\n",
       "dtype: float64"
      ]
     },
     "execution_count": 21,
     "metadata": {},
     "output_type": "execute_result"
    }
   ],
   "source": [
    "(movie.isna().sum()/len(movie))*100"
   ]
  },
  {
   "cell_type": "markdown",
   "id": "a39af21d",
   "metadata": {},
   "source": [
    "terdapat 12 data missing value pada fitur time_taken, mari tangani missing value tersebut pada beberapa metode dibawah ini"
   ]
  },
  {
   "cell_type": "markdown",
   "id": "f019f22a",
   "metadata": {},
   "source": [
    "### Drop Missing value"
   ]
  },
  {
   "cell_type": "code",
   "execution_count": 22,
   "id": "1fc6ae96",
   "metadata": {},
   "outputs": [],
   "source": [
    "# Berdasarkan baris\n",
    "\n",
    "baris = movie.dropna(axis=0)"
   ]
  },
  {
   "cell_type": "code",
   "execution_count": 26,
   "id": "84a3ca2f",
   "metadata": {},
   "outputs": [
    {
     "data": {
      "text/plain": [
       "(494, 19)"
      ]
     },
     "execution_count": 26,
     "metadata": {},
     "output_type": "execute_result"
    }
   ],
   "source": [
    "baris.shape"
   ]
  },
  {
   "cell_type": "code",
   "execution_count": 36,
   "id": "5ffe813e",
   "metadata": {},
   "outputs": [
    {
     "data": {
      "text/plain": [
       "(506, 19)"
      ]
     },
     "execution_count": 36,
     "metadata": {},
     "output_type": "execute_result"
    }
   ],
   "source": [
    "movie.shape"
   ]
  },
  {
   "cell_type": "code",
   "execution_count": 23,
   "id": "5f104b56",
   "metadata": {},
   "outputs": [],
   "source": [
    "# Berdasarkan kolom\n",
    "\n",
    "kolom = movie.dropna(axis=1)"
   ]
  },
  {
   "cell_type": "code",
   "execution_count": 64,
   "id": "c861033c",
   "metadata": {},
   "outputs": [
    {
     "data": {
      "text/plain": [
       "(506, 18)"
      ]
     },
     "execution_count": 64,
     "metadata": {},
     "output_type": "execute_result"
    }
   ],
   "source": [
    "kolom.shape"
   ]
  },
  {
   "cell_type": "markdown",
   "id": "d8e33bdd",
   "metadata": {},
   "source": [
    "## Imputasi"
   ]
  },
  {
   "cell_type": "code",
   "execution_count": 39,
   "id": "ddf09681",
   "metadata": {},
   "outputs": [],
   "source": [
    "imputate = movie.select_dtypes(include=[np.number])"
   ]
  },
  {
   "cell_type": "markdown",
   "id": "1cb4c287",
   "metadata": {},
   "source": [
    "### Mean"
   ]
  },
  {
   "cell_type": "code",
   "execution_count": 47,
   "id": "58d3fb0e",
   "metadata": {},
   "outputs": [],
   "source": [
    "# Imputasi dengan mean\n",
    "\n",
    "mean = imputate.fillna(imputate.mean()) "
   ]
  },
  {
   "cell_type": "code",
   "execution_count": 63,
   "id": "e2e64a2c",
   "metadata": {},
   "outputs": [
    {
     "data": {
      "text/plain": [
       "Marketing expense       0\n",
       "Production expense      0\n",
       "Multiplex coverage      0\n",
       "Budget                  0\n",
       "Movie_length            0\n",
       "Lead_ Actor_Rating      0\n",
       "Lead_Actress_rating     0\n",
       "Director_rating         0\n",
       "Producer_rating         0\n",
       "Critic_rating           0\n",
       "Trailer_views           0\n",
       "3D_available            0\n",
       "Time_taken             12\n",
       "Twitter_hastags         0\n",
       "Genre                   0\n",
       "Avg_age_actors          0\n",
       "Num_multiplex           0\n",
       "Collection              0\n",
       "Start_Tech_Oscar        0\n",
       "dtype: int64"
      ]
     },
     "execution_count": 63,
     "metadata": {},
     "output_type": "execute_result"
    }
   ],
   "source": [
    "movie.isna().sum()"
   ]
  },
  {
   "cell_type": "code",
   "execution_count": 60,
   "id": "fcb283ed",
   "metadata": {},
   "outputs": [
    {
     "name": "stdout",
     "output_type": "stream",
     "text": [
      "20     157.391498\n",
      "58     157.391498\n",
      "60     157.391498\n",
      "104    157.391498\n",
      "105    157.391498\n",
      "215    157.391498\n",
      "260    157.391498\n",
      "359    157.391498\n",
      "403    157.391498\n",
      "416    157.391498\n",
      "440    157.391498\n",
      "496    157.391498\n",
      "Name: Time_taken, dtype: float64\n"
     ]
    }
   ],
   "source": [
    "print(mean.loc[mean['Time_taken'] == movie['Time_taken'].mean(), 'Time_taken'])"
   ]
  },
  {
   "cell_type": "markdown",
   "id": "de5eec96",
   "metadata": {},
   "source": [
    "### Median"
   ]
  },
  {
   "cell_type": "code",
   "execution_count": 66,
   "id": "86c6f383",
   "metadata": {},
   "outputs": [],
   "source": [
    "median = imputate.fillna(imputate.median()) "
   ]
  },
  {
   "cell_type": "code",
   "execution_count": 68,
   "id": "31da290e",
   "metadata": {},
   "outputs": [
    {
     "name": "stdout",
     "output_type": "stream",
     "text": [
      "163    160.0\n",
      "267    160.0\n",
      "Name: Time_taken, dtype: float64\n"
     ]
    }
   ],
   "source": [
    "print(median.loc[median['Time_taken'] == movie['Time_taken'].median(), 'Time_taken'])"
   ]
  },
  {
   "cell_type": "code",
   "execution_count": 69,
   "id": "882f889a",
   "metadata": {},
   "outputs": [
    {
     "data": {
      "text/plain": [
       "Marketing expense      0\n",
       "Production expense     0\n",
       "Multiplex coverage     0\n",
       "Budget                 0\n",
       "Movie_length           0\n",
       "Lead_ Actor_Rating     0\n",
       "Lead_Actress_rating    0\n",
       "Director_rating        0\n",
       "Producer_rating        0\n",
       "Critic_rating          0\n",
       "Trailer_views          0\n",
       "Time_taken             0\n",
       "Twitter_hastags        0\n",
       "Avg_age_actors         0\n",
       "Num_multiplex          0\n",
       "Collection             0\n",
       "Start_Tech_Oscar       0\n",
       "dtype: int64"
      ]
     },
     "execution_count": 69,
     "metadata": {},
     "output_type": "execute_result"
    }
   ],
   "source": [
    "median.isnull().sum()"
   ]
  },
  {
   "cell_type": "markdown",
   "id": "331602a3",
   "metadata": {},
   "source": [
    "### Modus"
   ]
  },
  {
   "cell_type": "code",
   "execution_count": 70,
   "id": "775d0b4e",
   "metadata": {},
   "outputs": [],
   "source": [
    "modus = imputate.fillna(imputate.mode()) "
   ]
  },
  {
   "cell_type": "code",
   "execution_count": 72,
   "id": "0a91717f",
   "metadata": {},
   "outputs": [
    {
     "data": {
      "text/plain": [
       "Marketing expense      0\n",
       "Production expense     0\n",
       "Multiplex coverage     0\n",
       "Budget                 0\n",
       "Movie_length           0\n",
       "Lead_ Actor_Rating     0\n",
       "Lead_Actress_rating    0\n",
       "Director_rating        0\n",
       "Producer_rating        0\n",
       "Critic_rating          0\n",
       "Trailer_views          0\n",
       "Time_taken             0\n",
       "Twitter_hastags        0\n",
       "Avg_age_actors         0\n",
       "Num_multiplex          0\n",
       "Collection             0\n",
       "Start_Tech_Oscar       0\n",
       "dtype: int64"
      ]
     },
     "execution_count": 72,
     "metadata": {},
     "output_type": "execute_result"
    }
   ],
   "source": [
    "modus.isna().sum()"
   ]
  },
  {
   "cell_type": "markdown",
   "id": "94b05b40",
   "metadata": {},
   "source": [
    "### Export Excel"
   ]
  },
  {
   "cell_type": "code",
   "execution_count": 74,
   "id": "ac1a6051",
   "metadata": {},
   "outputs": [],
   "source": [
    "movie.to_excel(\"movie_clean.xlsx\", index=False)\n",
    "baris.to_excel(\"movie_clean.xlsx\", index=False)\n",
    "kolom.to_excel(\"movie_clean.xlsx\", index=False)\n",
    "mean.to_excel(\"movie_clean.xlsx\", index=False)\n",
    "modus.to_excel(\"movie_clean.xlsx\", index=False)\n",
    "median.to_excel(\"movie_clean.xlsx\", index=False)"
   ]
  },
  {
   "cell_type": "markdown",
   "id": "1bb00b68",
   "metadata": {},
   "source": [
    "### Export CSV"
   ]
  },
  {
   "cell_type": "code",
   "execution_count": 75,
   "id": "cad2cc02",
   "metadata": {},
   "outputs": [],
   "source": [
    "movie.to_csv(\"movie_clean.csv\", index=False)\n",
    "baris.to_csv(\"movie_clean.csv\", index=False)\n",
    "kolom.to_csv(\"movie_clean.csv\", index=False)\n",
    "mean.to_csv(\"movie_clean.csv\", index=False)\n",
    "modus.to_csv(\"movie_clean.csv\", index=False)\n",
    "median.to_csv(\"movie_clean.csv\", index=False)"
   ]
  }
 ],
 "metadata": {
  "kernelspec": {
   "display_name": "Python 3 (ipykernel)",
   "language": "python",
   "name": "python3"
  },
  "language_info": {
   "codemirror_mode": {
    "name": "ipython",
    "version": 3
   },
   "file_extension": ".py",
   "mimetype": "text/x-python",
   "name": "python",
   "nbconvert_exporter": "python",
   "pygments_lexer": "ipython3",
   "version": "3.11.5"
  }
 },
 "nbformat": 4,
 "nbformat_minor": 5
}
