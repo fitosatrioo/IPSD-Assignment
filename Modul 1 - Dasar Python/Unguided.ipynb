{
 "cells": [
  {
   "cell_type": "markdown",
   "id": "a1d823b8",
   "metadata": {},
   "source": [
    "1.) Buatlah program yang dapat menghasilkan pola berbentuk angka seperti di bawah ini, dengan syarat angka yang ditampilkan adalah hasil dari penjumlahan bilangan prima sebelumnya"
   ]
  },
  {
   "cell_type": "code",
   "execution_count": 1,
   "id": "8620868c",
   "metadata": {},
   "outputs": [
    {
     "name": "stdout",
     "output_type": "stream",
     "text": [
      "1 \n",
      "2 3 \n",
      "5 7 11 \n",
      "13 17 19 23 \n"
     ]
    }
   ],
   "source": [
    "awal = [[1]]  \n",
    "bilangan_prima = []\n",
    "angka_sekarang = 2\n",
    "\n",
    "for baris in range(1, 4): \n",
    "    angka_baris = []\n",
    "    while len(angka_baris) < baris + 1:\n",
    "        if angka_sekarang < 2:\n",
    "            angka_sekarang += 1\n",
    "            continue\n",
    "        for i in range(2, int(angka_sekarang ** 0.5) + 1):\n",
    "            if angka_sekarang % i == 0:\n",
    "                angka_sekarang += 1\n",
    "                break\n",
    "        else:\n",
    "            bilangan_prima.append(angka_sekarang)\n",
    "            angka_baris.append(angka_sekarang)\n",
    "            angka_sekarang += 1\n",
    "    awal.append(angka_baris)\n",
    "\n",
    "for baris in awal:\n",
    "    for num in baris:\n",
    "        print(num, end=' ')\n",
    "    print()"
   ]
  },
  {
   "cell_type": "markdown",
   "id": "4a28e3d2",
   "metadata": {},
   "source": [
    "2.) Buatlah sebuah fungsi yang menerima dua input berupa list angka. Fungsi ini harus mengembalikan sebuah list baru yang berisi elemen dari dua list input yang memiliki indeks ganjil. List baru tersebut juga harus diurutkan secara menurun berdasarkan nilai elemen."
   ]
  },
  {
   "cell_type": "code",
   "execution_count": 33,
   "id": "b3032a58",
   "metadata": {},
   "outputs": [
    {
     "name": "stdout",
     "output_type": "stream",
     "text": [
      "List 1: [0, 1, 2, 3, 4]\n",
      "List 2: [5, 6, 7, 8, 9]\n",
      "List gabungan dengan indeks ganjil descending: [9, 7, 5, 3, 1]\n"
     ]
    }
   ],
   "source": [
    "def odd_indices(list1, list2):\n",
    "    result = [x for i, x in enumerate(list1 + list2) if i % 2 != 0]\n",
    "    result.sort(reverse=True)\n",
    "    return result\n",
    "\n",
    "list1 = [0, 1, 2, 3, 4]\n",
    "list2 = [5, 6, 7, 8, 9]\n",
    "\n",
    "result = odd_indices(list1, list2)\n",
    "print(\"List 1:\", list1)\n",
    "print(\"List 2:\", list2)\n",
    "\n",
    "print(\"List gabungan dengan indeks ganjil descending:\", result)  "
   ]
  },
  {
   "cell_type": "markdown",
   "id": "36f05d44",
   "metadata": {},
   "source": [
    "3.) Buat sebuah program untuk mensimulasikan transaksi ATM. Program harus:\n",
    "1. Meminta pengguna memasukkan PIN (dibatasi 3 kali percobaan).\n",
    "2. Setelah PIN benar, meminta jumlah penarikan.\n",
    "3. Jika saldo kurang dari jumlah yang ditarik, munculkan pesan kesalahan.\n",
    "4. Jika penarikan berhasil, tampilkan saldo akhir.\n"
   ]
  },
  {
   "cell_type": "code",
   "execution_count": 4,
   "id": "7ee29012",
   "metadata": {},
   "outputs": [
    {
     "name": "stdout",
     "output_type": "stream",
     "text": [
      "Masukkan PIN Anda: 1234\n",
      "Masukkan jumlah penarikan: 200000\n",
      "Saldo anda tidak cukup.\n",
      "Masukkan jumlah penarikan: 50000\n",
      "Transaksi berhasil. Saldo Anda sekarang adalah: 50000\n"
     ]
    }
   ],
   "source": [
    "class ATM:\n",
    "    pin = \"1234\" \n",
    "    saldo = 100000  \n",
    "\n",
    "    def autentikasi():\n",
    "        for i in range(3):\n",
    "            pin_input = input(\"Masukkan PIN Anda: \")\n",
    "            if pin_input == ATM.pin:\n",
    "                return True\n",
    "            else:\n",
    "                print(\"PIN tidak valid. Coba lagi.\")\n",
    "        print(\"Maksimum percobaan telah tercapai 3 kali. kartu anda diblokir.\")\n",
    "        return False\n",
    "\n",
    "    def tarik_tunai():\n",
    "        if not ATM.autentikasi():\n",
    "            return\n",
    "        while True:\n",
    "            jumlah_tarik = int(input(\"Masukkan jumlah penarikan: \"))\n",
    "            if jumlah_tarik > ATM.saldo:\n",
    "                print(\"Saldo anda tidak cukup.\")\n",
    "            else:\n",
    "                ATM.saldo -= jumlah_tarik\n",
    "                print(f\"Transaksi berhasil. Saldo Anda sekarang adalah: {ATM.saldo}\")\n",
    "                break\n",
    "\n",
    "atm = ATM\n",
    "atm.tarik_tunai()"
   ]
  },
  {
   "cell_type": "markdown",
   "id": "021b6910",
   "metadata": {},
   "source": [
    "4.) Anda diberikan file CSV berisi data nilai ujian mahasiswa. Tugas Anda adalah menulis sebuah program yang:\n",
    "1. Membaca file CSV dan menyimpan datanya ke dalam dictionary.\n",
    "2. Menghitung rata-rata nilai tiap mahasiswa.\n",
    "3. Menampilkan mahasiswa dengan nilai tertinggi dan terendah.\n"
   ]
  },
  {
   "cell_type": "code",
   "execution_count": 6,
   "id": "bfe2c865",
   "metadata": {},
   "outputs": [
    {
     "name": "stdout",
     "output_type": "stream",
     "text": [
      "Rata-rata nilai seluruh siswa: 72.0\n",
      "\n",
      "Siswa dengan nilai tertinggi: Siswa_7 dengan nilai 100.00\n",
      "Siswa dengan nilai terendah: Siswa_5 dengan nilai 50.00\n"
     ]
    }
   ],
   "source": [
    "import csv\n",
    "data_siswa = {}\n",
    "\n",
    "\n",
    "with open('siswa_nilai.csv', 'r') as file:\n",
    "    reader = csv.reader(file)\n",
    "    next(reader)  \n",
    "    for row in reader:\n",
    "        nama, nilai = row\n",
    "        data_siswa[nama] = float(nilai)\n",
    "\n",
    "# Hitung rata-rata nilai seluruh siswa\n",
    "jumlah_nilai = sum(data_siswa.values())\n",
    "rata_rata_nilai = jumlah_nilai / len(data_siswa)\n",
    "\n",
    "# Cari siswa dengan nilai tertinggi dan terendah\n",
    "nilai_tertinggi = max(data_siswa, key=data_siswa.get)\n",
    "nilai_terendah = min(data_siswa, key=data_siswa.get)\n",
    "\n",
    "# Tampilkan hasil\n",
    "print(\"Rata-rata nilai seluruh siswa:\", rata_rata_nilai)\n",
    "print(f\"\\nSiswa dengan nilai tertinggi: {nilai_tertinggi} dengan nilai {data_siswa[nilai_tertinggi]:.2f}\")\n",
    "print(f\"Siswa dengan nilai terendah: {nilai_terendah} dengan nilai {data_siswa[nilai_terendah]:.2f}\")"
   ]
  },
  {
   "cell_type": "markdown",
   "id": "839d84ac",
   "metadata": {},
   "source": [
    "5.) Buatlah permainan sederhana menggunakan Python, di mana komputer akan memilih sebuah angka secara acak antara 1 hingga 100, dan pengguna harus menebak angka tersebut. Setiap tebakan yang salah akan memberikan petunjuk apakah angka yang ditebak lebih besar atau lebih kecil dari angka sebenarnya. Batasi jumlah percobaan menjadi 5 kali. Setelah permainan selesai, tampilkan apakah pemain menang atau kalah."
   ]
  },
  {
   "cell_type": "code",
   "execution_count": 9,
   "id": "3735d076",
   "metadata": {},
   "outputs": [
    {
     "name": "stdout",
     "output_type": "stream",
     "text": [
      "Tebak angka antara 1 hingga 100: 70\n",
      "Angka yang Anda tebak terlalu besar. Coba lagi!\n",
      "Tebak angka antara 1 hingga 100: 40\n",
      "Angka yang Anda tebak terlalu besar. Coba lagi!\n",
      "Tebak angka antara 1 hingga 100: 23\n",
      "Angka yang Anda tebak terlalu kecil. Coba lagi!\n",
      "Tebak angka antara 1 hingga 100: 35\n",
      "Selamat! Anda menang!\n"
     ]
    }
   ],
   "source": [
    "import random\n",
    "\n",
    "angka_rahasia = random.randint(1, 100)\n",
    "\n",
    "jumlah_percobaan = 0\n",
    "\n",
    "\n",
    "while jumlah_percobaan < 5:\n",
    "    tebakan = int(input(\"Tebak angka antara 1 hingga 100: \"))\n",
    "\n",
    "   \n",
    "    if tebakan == angka_rahasia:\n",
    "        print(\"Selamat! Anda menang!\")\n",
    "        break\n",
    "    elif tebakan > angka_rahasia:\n",
    "        print(\"Angka yang Anda tebak terlalu besar. Coba lagi!\")\n",
    "    else:\n",
    "        print(\"Angka yang Anda tebak terlalu kecil. Coba lagi!\")\n",
    "\n",
    "    jumlah_percobaan += 1\n",
    "\n",
    "\n",
    "if jumlah_percobaan == 5:\n",
    "    print(f\"Sayang! Anda gagal. Angka rahasia adalah {angka_rahasia}.\")"
   ]
  },
  {
   "cell_type": "markdown",
   "id": "2e1cb0c4",
   "metadata": {},
   "source": [
    "6.) Buat fungsi rekursif yang menerima input bilangan bulat `n` dan menghasilkan urutan bilangan seperti berikut ini:"
   ]
  },
  {
   "cell_type": "code",
   "execution_count": 23,
   "id": "f153ed96",
   "metadata": {},
   "outputs": [
    {
     "name": "stdout",
     "output_type": "stream",
     "text": [
      "Input: n = 4\n",
      "Output: 1, 1, 2, 6, 24, \n"
     ]
    }
   ],
   "source": [
    "def rekursif(n):\n",
    "    if n <= 2:\n",
    "        return [1] * n\n",
    "    sebelum = rekursif(n - 1)\n",
    "    return sebelum + [(n - 1) * sebelum[-1]]\n",
    "\n",
    "n = 4\n",
    "hasil = rekursif(n + 1)[:n+1]  # Mengambil n+1 elemen\n",
    "print(f\"Input: n = {n}\")\n",
    "print(f\"Output: \", end=\"\")\n",
    "for i in hasil:\n",
    "    print(i, end=\", \")\n",
    "print()"
   ]
  },
  {
   "cell_type": "markdown",
   "id": "5db7369d",
   "metadata": {},
   "source": [
    "7.) Buatlah program untuk memecahkan masalah \"minimum coin change\". Diberikan jumlah uang dan daftar nilai koin yang tersedia (misalnya, 1, 5, 10, 25), tentukan kombinasi minimum koin yang diperlukan untuk mencapai jumlah uang tersebut. Namun, program Anda harus bisa menangani koin-koin yang nilai dan jumlahnya ditentukan pengguna."
   ]
  },
  {
   "cell_type": "code",
   "execution_count": 30,
   "id": "f987dd70",
   "metadata": {},
   "outputs": [
    {
     "name": "stdout",
     "output_type": "stream",
     "text": [
      "Masukkan denominasi koin (dipisahkan oleh spasi): 2\n",
      "Masukkan jumlah yang ingin diubah: 10\n",
      "Koin Digunakan: 2, 2, 2, 2, 2, \n",
      "Total Koin: 5\n"
     ]
    }
   ],
   "source": [
    "def greedy_coin_change(jumlah, denominasi):\n",
    "    denominasi.sort(reverse=True)  \n",
    "    koin_digunakan = []\n",
    "\n",
    "    for koin in denominasi:\n",
    "        while jumlah >= koin:\n",
    "            koin_digunakan.append(koin)\n",
    "            jumlah -= koin\n",
    "\n",
    "    return koin_digunakan\n",
    "\n",
    "# Dapatkan denominasi koin dan jumlah dari pengguna\n",
    "denominasi_koin = list(map(int, input(\"Masukkan denominasi koin (dipisahkan oleh spasi): \").split()))\n",
    "jumlah_diubah = int(input(\"Masukkan jumlah yang ingin diubah: \"))\n",
    "\n",
    "\n",
    "hasil = greedy_coin_change(jumlah_diubah, denominasi_koin)\n",
    "\n",
    "\n",
    "print(\"Koin Digunakan:\", end=\" \")\n",
    "for koin in hasil:\n",
    "    print(koin, end=\", \")\n",
    "print()\n",
    "print(\"Total Koin:\", len(hasil))"
   ]
  },
  {
   "cell_type": "markdown",
   "id": "763d3633",
   "metadata": {},
   "source": [
    "8.) Buat sebuah program yang menerima string dari pengguna dan mengonversi string tersebut menjadi sebuah list berisi kata-kata terbalik. Misalnya:"
   ]
  },
  {
   "cell_type": "code",
   "execution_count": 34,
   "id": "a8250713",
   "metadata": {},
   "outputs": [
    {
     "name": "stdout",
     "output_type": "stream",
     "text": [
      "Masukkan string: Saya Suka Python\n",
      "Output: ['ayaS', 'akuS', 'nohtyP']\n"
     ]
    }
   ],
   "source": [
    "def balik_kata(input_string):\n",
    "    kata_kata = input_string.split()  \n",
    "    kata_kata_balik = [kata[::-1] for kata in kata_kata]  \n",
    "    return kata_kata_balik\n",
    "\n",
    "\n",
    "input_string = input(\"Masukkan string: \")\n",
    "\n",
    "\n",
    "hasil = balik_kata(input_string)\n",
    "\n",
    "# Cetak hasil\n",
    "print(\"Output:\", hasil)"
   ]
  },
  {
   "cell_type": "markdown",
   "id": "b86a7509",
   "metadata": {},
   "source": [
    "9.) Buat class bernama `Buku` yang memiliki atribut `judul`, `penulis`, dan `tahun_terbit`. Buat method dalam class untuk menampilkan informasi buku, serta method untuk menghitung usia buku berdasarkan tahun saat ini. Buatlah 3 objek dari class `Buku` dan tampilkan informasi serta usia masing-masing buku."
   ]
  },
  {
   "cell_type": "code",
   "execution_count": 36,
   "id": "f53fd6f1",
   "metadata": {},
   "outputs": [
    {
     "name": "stdout",
     "output_type": "stream",
     "text": [
      "Buku 1:\n",
      "Judul: Harry Potter\n",
      "Penulis: JK Rowling\n",
      "Tahun Terbit: 2002\n",
      "Usia: 22 tahun\n",
      "\n",
      "Buku 2:\n",
      "Judul: Dynasti Politics\n",
      "Penulis: FufuFafa\n",
      "Tahun Terbit: 2024\n",
      "Usia: 0 tahun\n",
      "\n",
      "Buku 3:\n",
      "Judul: Malam Minggu Miko\n",
      "Penulis: Raditya Dika\n",
      "Tahun Terbit: 2016\n",
      "Usia: 8 tahun\n",
      "\n"
     ]
    }
   ],
   "source": [
    "import datetime\n",
    "\n",
    "class Buku:\n",
    "    def __init__(self, judul, penulis, tahun_terbit):\n",
    "        self.judul = judul\n",
    "        self.penulis = penulis\n",
    "        self.tahun_terbit = tahun_terbit\n",
    "\n",
    "    def tampilkan_informasi(self):\n",
    "        print(f\"Judul: {self.judul}\")\n",
    "        print(f\"Penulis: {self.penulis}\")\n",
    "        print(f\"Tahun Terbit: {self.tahun_terbit}\")\n",
    "\n",
    "    def hitung_usia(self):\n",
    "        tahun_saat_ini = datetime.date.today().year\n",
    "        usia = tahun_saat_ini - self.tahun_terbit\n",
    "        return usia\n",
    "\n",
    "\n",
    "buku1 = Buku(\"Harry Potter\", \"JK Rowling\", 2002)\n",
    "buku2 = Buku(\"Dynasti Politics\", \"FufuFafa\", 2024)\n",
    "buku3 = Buku(\"Malam Minggu Miko\", \"Raditya Dika\", 2016)\n",
    "\n",
    "\n",
    "print(\"Buku 1:\")\n",
    "buku1.tampilkan_informasi()\n",
    "print(f\"Usia: {buku1.hitung_usia()} tahun\")\n",
    "print()\n",
    "\n",
    "print(\"Buku 2:\")\n",
    "buku2.tampilkan_informasi()\n",
    "print(f\"Usia: {buku2.hitung_usia()} tahun\")\n",
    "print()\n",
    "\n",
    "print(\"Buku 3:\")\n",
    "buku3.tampilkan_informasi()\n",
    "print(f\"Usia: {buku3.hitung_usia()} tahun\")\n",
    "print()"
   ]
  },
  {
   "cell_type": "markdown",
   "id": "fa04c83a",
   "metadata": {},
   "source": [
    "10) Buatlah program yang mengimplementasikan algoritma pencarian biner, namun dengan modifikasi: algoritma harus bisa mencari nilai di list yang hanya berisi angka genap, dan jika nilai yang dicari adalah angka ganjil, program harus menampilkan pesan bahwa nilai tersebut tidak bisa ditemukan."
   ]
  },
  {
   "cell_type": "code",
   "execution_count": 38,
   "id": "59da4534",
   "metadata": {},
   "outputs": [
    {
     "name": "stdout",
     "output_type": "stream",
     "text": [
      "Masukkan nilai yang ingin dicari: 10\n",
      "4\n"
     ]
    }
   ],
   "source": [
    "def binary_search(lst, target):\n",
    "    low = 0\n",
    "    high = len(lst) - 1\n",
    "\n",
    "    while low <= high:\n",
    "        mid = (low + high) // 2\n",
    "        if lst[mid] == target:\n",
    "            return mid\n",
    "        elif lst[mid] < target:\n",
    "            low = mid + 1\n",
    "        else:\n",
    "            high = mid - 1\n",
    "\n",
    "    if target % 2 != 0:\n",
    "        return \"Nilai tidak bisa ditemukan karena nilai tersebut adalah angka ganjil\"\n",
    "    else:\n",
    "        return \"Nilai tidak ditemukan dalam list\"\n",
    "\n",
    "# Example usage:\n",
    "even_numbers = [2, 4, 6, 8, 10, 12, 14, 16, 18, 20]\n",
    "\n",
    "target = int(input(\"Masukkan nilai yang ingin dicari: \"))\n",
    "\n",
    "result = binary_search(even_numbers, target)\n",
    "\n",
    "print(result)"
   ]
  }
 ],
 "metadata": {
  "kernelspec": {
   "display_name": "Python 3 (ipykernel)",
   "language": "python",
   "name": "python3"
  },
  "language_info": {
   "codemirror_mode": {
    "name": "ipython",
    "version": 3
   },
   "file_extension": ".py",
   "mimetype": "text/x-python",
   "name": "python",
   "nbconvert_exporter": "python",
   "pygments_lexer": "ipython3",
   "version": "3.11.5"
  }
 },
 "nbformat": 4,
 "nbformat_minor": 5
}
